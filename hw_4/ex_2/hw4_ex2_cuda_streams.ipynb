{
  "cells": [
    {
      "cell_type": "markdown",
      "metadata": {
        "id": "rBBKad2FaCvl"
      },
      "source": [
        "Useful links:\n",
        "- https://docs.nvidia.com/nsight-compute/NsightComputeCli/index.html#nvprof-metric-comparison\n",
        "- https://docs.nvidia.com/cuda/profiler-users-guide/index.html#metrics-reference-7x\n",
        "- https://canvas.kth.se/courses/36161/assignments/223741\n",
        "- https://canvas.kth.se/courses/36161/pages/tutorial-timing-your-kernel-cpu-timer-and-nvprof?module_item_id=561394"
      ]
    },
    {
      "cell_type": "code",
      "execution_count": null,
      "metadata": {
        "colab": {
          "base_uri": "https://localhost:8080/"
        },
        "id": "OEm6GxLePnsK",
        "outputId": "cd8eb13f-734a-4d43-f31b-f76e92c8d0b9"
      },
      "outputs": [
        {
          "name": "stdout",
          "output_type": "stream",
          "text": [
            "nvcc: NVIDIA (R) Cuda compiler driver\n",
            "Copyright (c) 2005-2021 NVIDIA Corporation\n",
            "Built on Sun_Feb_14_21:12:58_PST_2021\n",
            "Cuda compilation tools, release 11.2, V11.2.152\n",
            "Build cuda_11.2.r11.2/compiler.29618528_0\n",
            "Mon Nov 28 13:58:38 2022       \n",
            "+-----------------------------------------------------------------------------+\n",
            "| NVIDIA-SMI 460.32.03    Driver Version: 460.32.03    CUDA Version: 11.2     |\n",
            "|-------------------------------+----------------------+----------------------+\n",
            "| GPU  Name        Persistence-M| Bus-Id        Disp.A | Volatile Uncorr. ECC |\n",
            "| Fan  Temp  Perf  Pwr:Usage/Cap|         Memory-Usage | GPU-Util  Compute M. |\n",
            "|                               |                      |               MIG M. |\n",
            "|===============================+======================+======================|\n",
            "|   0  Tesla T4            Off  | 00000000:00:04.0 Off |                    0 |\n",
            "| N/A   42C    P8     9W /  70W |      0MiB / 15109MiB |      0%      Default |\n",
            "|                               |                      |                  N/A |\n",
            "+-------------------------------+----------------------+----------------------+\n",
            "                                                                               \n",
            "+-----------------------------------------------------------------------------+\n",
            "| Processes:                                                                  |\n",
            "|  GPU   GI   CI        PID   Type   Process name                  GPU Memory |\n",
            "|        ID   ID                                                   Usage      |\n",
            "|=============================================================================|\n",
            "|  No running processes found                                                 |\n",
            "+-----------------------------------------------------------------------------+\n"
          ]
        }
      ],
      "source": [
        "!nvcc --version\n",
        "!nvidia-smi"
      ]
    },
    {
      "cell_type": "code",
      "execution_count": null,
      "metadata": {
        "colab": {
          "base_uri": "https://localhost:8080/"
        },
        "id": "_qizZP6dQX85",
        "outputId": "462f5a65-65d9-4231-d560-9bd8823924df"
      },
      "outputs": [
        {
          "name": "stdout",
          "output_type": "stream",
          "text": [
            "Drive already mounted at /content/drive; to attempt to forcibly remount, call drive.mount(\"/content/drive\", force_remount=True).\n",
            "/content/drive/MyDrive/Colab Notebooks/DD2360 Applied GPU Programming KTH/hw_3/ex_1\n",
            "hw3_ex1_first_cuda_program.ipynb  lab3_ex1  lab3_ex1.cu\n"
          ]
        }
      ],
      "source": [
        "from google.colab import drive\n",
        "drive.mount('/content/drive')\n",
        "%cd '/content/drive/MyDrive/Colab Notebooks/DD2360 Applied GPU Programming KTH/hw_4/ex_2'\n",
        "!ls"
      ]
    },
    {
      "cell_type": "code",
      "execution_count": null,
      "metadata": {
        "colab": {
          "base_uri": "https://localhost:8080/"
        },
        "id": "tDbmJXh06LOk",
        "outputId": "e3e1b45a-2f5a-4ef8-8797-8ae0cb6051a2"
      },
      "outputs": [
        {
          "name": "stdout",
          "output_type": "stream",
          "text": [
            "The input length is 131070.\n",
            "Time Data copy (H2D): 0.000679.\n",
            "Time CUDA kernel: 0.000034.\n",
            "Time Data copy (D2H): 0.000790.\n",
            "CPU and GPU results are equal.\n"
          ]
        }
      ],
      "source": [
        "!nvcc -arch=sm_75 ./lab4_ex2.cu -o lab4_ex2\n",
        "!./lab4_ex2 131070"
      ]
    },
    {
      "cell_type": "code",
      "execution_count": null,
      "metadata": {
        "colab": {
          "base_uri": "https://localhost:8080/"
        },
        "id": "fvW0ViFU70Jh",
        "outputId": "e857d450-3764-4c10-fb6b-e65243cb5d98"
      },
      "outputs": [
        {
          "name": "stdout",
          "output_type": "stream",
          "text": [
            "The input length is 131070.\n",
            "==PROF== Connected to process 1029 (/content/drive/MyDrive/Colab Notebooks/DD2360 Applied GPU Programming KTH/hw_3/ex_1/lab3_ex1)\n",
            "Time Data copy (H2D): 0.000726.\n",
            "==PROF== Profiling \"vecAdd\" - 1: 0%....50%....100% - 8 passes\n",
            "Time CUDA kernel: 0.678639.\n",
            "Time Data copy (D2H): 0.000830.\n",
            "CPU and GPU results are equal.\n",
            "==PROF== Disconnected from process 1029\n",
            "[1029] lab3_ex1@127.0.0.1\n",
            "  vecAdd(double*, double*, double*, int), 2022-Nov-28 13:58:42, Context 1, Stream 7\n",
            "    Section: GPU Speed Of Light\n",
            "    ---------------------------------------------------------------------- --------------- ------------------------------\n",
            "    DRAM Frequency                                                           cycle/nsecond                           5.00\n",
            "    SM Frequency                                                             cycle/usecond                         584.19\n",
            "    Elapsed Cycles                                                                   cycle                          6,491\n",
            "    Memory [%]                                                                           %                          63.91\n",
            "    SOL DRAM                                                                             %                          63.91\n",
            "    Duration                                                                       usecond                          11.10\n",
            "    SOL L1/TEX Cache                                                                     %                          32.47\n",
            "    SOL L2 Cache                                                                         %                          32.65\n",
            "    SM Active Cycles                                                                 cycle                       5,046.27\n",
            "    SM [%]                                                                               %                          25.26\n",
            "    ---------------------------------------------------------------------- --------------- ------------------------------\n",
            "    WRN   Memory is more heavily utilized than Compute: Look at the Memory Workload Analysis report section to see      \n",
            "          where the memory system bottleneck is. Check memory replay (coalescing) metrics to make sure you're           \n",
            "          efficiently utilizing the bytes transferred. Also consider whether it is possible to do more work per memory  \n",
            "          access (kernel fusion) or whether there are values you can (re)compute.                                       \n",
            "\n",
            "    Section: Launch Statistics\n",
            "    ---------------------------------------------------------------------- --------------- ------------------------------\n",
            "    Block Size                                                                                                        128\n",
            "    Function Cache Configuration                                                                  cudaFuncCachePreferNone\n",
            "    Grid Size                                                                                                       1,024\n",
            "    Registers Per Thread                                                   register/thread                             16\n",
            "    Shared Memory Configuration Size                                                 Kbyte                          32.77\n",
            "    Driver Shared Memory Per Block                                              byte/block                              0\n",
            "    Dynamic Shared Memory Per Block                                             byte/block                              0\n",
            "    Static Shared Memory Per Block                                              byte/block                              0\n",
            "    Threads                                                                         thread                        131,072\n",
            "    Waves Per SM                                                                                                     3.20\n",
            "    ---------------------------------------------------------------------- --------------- ------------------------------\n",
            "    WRN   A wave of thread blocks is defined as the maximum number of blocks that can be executed in parallel on the    \n",
            "          target GPU. The number of blocks in a wave depends on the number of multiprocessors and the theoretical       \n",
            "          occupancy of the kernel. This kernel launch results in 3 full waves and a partial wave of 64 thread blocks.   \n",
            "          Under the assumption of a uniform execution duration of all thread blocks, the partial wave may account for   \n",
            "          up to 25.0% of the total kernel runtime with a lower occupancy of 22.4%. Try launching a grid with no         \n",
            "          partial wave. The overall impact of this tail effect also lessens with the number of full waves executed for  \n",
            "          a grid.                                                                                                       \n",
            "\n",
            "    Section: Occupancy\n",
            "    ---------------------------------------------------------------------- --------------- ------------------------------\n",
            "    Block Limit SM                                                                   block                             16\n",
            "    Block Limit Registers                                                            block                             32\n",
            "    Block Limit Shared Mem                                                           block                             16\n",
            "    Block Limit Warps                                                                block                              8\n",
            "    Theoretical Active Warps per SM                                                   warp                             32\n",
            "    Theoretical Occupancy                                                                %                            100\n",
            "    Achieved Occupancy                                                                   %                          77.56\n",
            "    Achieved Active Warps Per SM                                                      warp                          24.82\n",
            "    ---------------------------------------------------------------------- --------------- ------------------------------\n",
            "\n"
          ]
        }
      ],
      "source": [
        "!/usr/local/cuda-11/bin/nv-nsight-cu-cli ./lab4_ex2 131070"
      ]
    },
    {
      "cell_type": "code",
      "execution_count": null,
      "metadata": {
        "colab": {
          "base_uri": "https://localhost:8080/"
        },
        "id": "wh3rPA1pqGLJ",
        "outputId": "34160531-0546-49a1-b172-2bfbcc1a826a"
      },
      "outputs": [
        {
          "name": "stdout",
          "output_type": "stream",
          "text": [
            "The input length is 134217728.\n",
            "tcmalloc: large alloc 1073741824 bytes == 0x55d36658c000 @  0x7fad712ef1e7 0x55d363c076ae 0x7fad70320c87 0x55d363c074aa\n",
            "==1039== NVPROF is profiling process 1039, command: ./lab3_ex1 134217728\n",
            "Time Data copy (H2D): 0.461054.\n",
            "Time CUDA kernel: 0.012298.\n",
            "Time Data copy (D2H): 0.702104.\n",
            "CPU and GPU results are equal.\n",
            "==1039== Profiling application: ./lab3_ex1 134217728\n",
            "==1039== Profiling result:\n",
            "            Type  Time(%)      Time     Calls       Avg       Min       Max  Name\n",
            " GPU activities:   59.71%  700.69ms         1  700.69ms  700.69ms  700.69ms  [CUDA memcpy DtoH]\n",
            "                   39.24%  460.49ms         2  230.25ms  229.74ms  230.75ms  [CUDA memcpy HtoD]\n",
            "                    1.04%  12.225ms         1  12.225ms  12.225ms  12.225ms  vecAdd(double*, double*, double*, int)\n",
            "      API calls:   76.96%  1.16302s         3  387.67ms  229.98ms  702.09ms  cudaMemcpy\n",
            "                   21.62%  326.71ms         3  108.90ms  1.0045ms  324.63ms  cudaMalloc\n",
            "                    0.82%  12.331ms         3  4.1103ms  9.5880us  12.243ms  cudaDeviceSynchronize\n",
            "                    0.56%  8.4974ms         3  2.8325ms  1.7573ms  3.5868ms  cudaFree\n",
            "                    0.02%  365.61us         1  365.61us  365.61us  365.61us  cuDeviceTotalMem\n",
            "                    0.01%  167.65us       101  1.6590us     137ns  71.365us  cuDeviceGetAttribute\n",
            "                    0.00%  50.374us         1  50.374us  50.374us  50.374us  cudaLaunchKernel\n",
            "                    0.00%  31.354us         1  31.354us  31.354us  31.354us  cuDeviceGetName\n",
            "                    0.00%  7.1230us         1  7.1230us  7.1230us  7.1230us  cuDeviceGetPCIBusId\n",
            "                    0.00%  1.3120us         2     656ns     294ns  1.0180us  cuDeviceGet\n",
            "                    0.00%  1.2650us         3     421ns     194ns     744ns  cuDeviceGetCount\n",
            "                    0.00%     252ns         1     252ns     252ns     252ns  cuDeviceGetUuid\n"
          ]
        }
      ],
      "source": [
        "!nvprof ./lab4_ex2 134217728"
      ]
    },
    {
      "cell_type": "code",
      "execution_count": null,
      "metadata": {
        "colab": {
          "base_uri": "https://localhost:8080/",
          "height": 649
        },
        "id": "gCcZESYAkUFU",
        "outputId": "d72826b0-0fa3-4cef-93c1-a3caaa426ee4"
      },
      "outputs": [
        {
          "data": {
            "image/png": "[encoded data removed]",
            "text/plain": [
              "<Figure size 1332x756 with 2 Axes>"
            ]
          },
          "metadata": {
            "needs_background": "light"
          },
          "output_type": "display_data"
        }
      ],
      "source": [
        "import matplotlib.pyplot as plt\n",
        "import numpy as np\n",
        "\n",
        "vector_lengths = ['131072', '524288', '2097152', '8388608', '33554432', '134217728']\n",
        "time_abs = np.array([82.046*10**(-3), 1.5917, 9.6424, 44.099, 182.70, 710.40])\n",
        "\n",
        "width = 0.4\n",
        "fig, ax = plt.subplots(1, 1)\n",
        "\n",
        "ax[0].bar(vector_lengths, time_abs, width)\n",
        "\n",
        "ax[0].set_xlabel('Vector lengths')\n",
        "ax[0].set_ylabel('Execution time (ms)')\n",
        "ax[0].set_title('Breakdown of time (absolute)')\n",
        "ax[0].legend()\n",
        "\n",
        "fig.set_size_inches(18.5/2, 10.5, forward=True)\n",
        "plt.show()"
      ]
    }
  ],
  "metadata": {
    "accelerator": "GPU",
    "colab": {
      "provenance": []
    },
    "gpuClass": "standard",
    "kernelspec": {
      "display_name": "Python 3",
      "language": "python",
      "name": "python3"
    },
    "language_info": {
      "name": "python",
      "version": "3.8.10 (default, Nov 14 2022, 12:59:47) \n[GCC 9.4.0]"
    },
    "vscode": {
      "interpreter": {
        "hash": "916dbcbb3f70747c44a77c7bcd40155683ae19c65e1c03b4aa3499c5328201f1"
      }
    }
  },
  "nbformat": 4,
  "nbformat_minor": 0
}
