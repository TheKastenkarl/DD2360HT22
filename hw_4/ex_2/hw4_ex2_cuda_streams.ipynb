{
  "cells": [
    {
      "cell_type": "markdown",
      "metadata": {
        "id": "rBBKad2FaCvl"
      },
      "source": [
        "Useful links:\n",
        "- https://docs.nvidia.com/nsight-compute/NsightComputeCli/index.html#nvprof-metric-comparison\n",
        "- https://docs.nvidia.com/cuda/profiler-users-guide/index.html#metrics-reference-7x\n",
        "- https://canvas.kth.se/courses/36161/assignments/223741\n",
        "- https://canvas.kth.se/courses/36161/pages/tutorial-timing-your-kernel-cpu-timer-and-nvprof?module_item_id=561394"
      ]
    },
    {
      "cell_type": "code",
      "execution_count": null,
      "metadata": {
        "colab": {
          "base_uri": "https://localhost:8080/"
        },
        "id": "OEm6GxLePnsK",
        "outputId": "ec1ab171-2980-4d26-aeb7-663a81188232"
      },
      "outputs": [
        {
          "output_type": "stream",
          "name": "stdout",
          "text": [
            "nvcc: NVIDIA (R) Cuda compiler driver\n",
            "Copyright (c) 2005-2021 NVIDIA Corporation\n",
            "Built on Sun_Feb_14_21:12:58_PST_2021\n",
            "Cuda compilation tools, release 11.2, V11.2.152\n",
            "Build cuda_11.2.r11.2/compiler.29618528_0\n",
            "Sat Jan  7 10:10:46 2023       \n",
            "+-----------------------------------------------------------------------------+\n",
            "| NVIDIA-SMI 460.32.03    Driver Version: 460.32.03    CUDA Version: 11.2     |\n",
            "|-------------------------------+----------------------+----------------------+\n",
            "| GPU  Name        Persistence-M| Bus-Id        Disp.A | Volatile Uncorr. ECC |\n",
            "| Fan  Temp  Perf  Pwr:Usage/Cap|         Memory-Usage | GPU-Util  Compute M. |\n",
            "|                               |                      |               MIG M. |\n",
            "|===============================+======================+======================|\n",
            "|   0  Tesla T4            Off  | 00000000:00:04.0 Off |                    0 |\n",
            "| N/A   62C    P0    28W /  70W |      0MiB / 15109MiB |      0%      Default |\n",
            "|                               |                      |                  N/A |\n",
            "+-------------------------------+----------------------+----------------------+\n",
            "                                                                               \n",
            "+-----------------------------------------------------------------------------+\n",
            "| Processes:                                                                  |\n",
            "|  GPU   GI   CI        PID   Type   Process name                  GPU Memory |\n",
            "|        ID   ID                                                   Usage      |\n",
            "|=============================================================================|\n",
            "|  No running processes found                                                 |\n",
            "+-----------------------------------------------------------------------------+\n"
          ]
        }
      ],
      "source": [
        "!nvcc --version\n",
        "!nvidia-smi"
      ]
    },
    {
      "cell_type": "code",
      "execution_count": null,
      "metadata": {
        "colab": {
          "base_uri": "https://localhost:8080/"
        },
        "id": "_qizZP6dQX85",
        "outputId": "00e23f27-573b-4238-a897-610007546b45"
      },
      "outputs": [
        {
          "output_type": "stream",
          "name": "stdout",
          "text": [
            "Mounted at /content/drive\n",
            "/content/drive/MyDrive/Colab Notebooks/DD2360 Applied GPU Programming KTH/hw_4/ex_2\n",
            "hw4_ex2_cuda_streams.ipynb\t\t lab4_ex2\n",
            "hw4_ex2_profile_134217728.nvprof\t lab4_ex2.cu\n",
            "hw4_ex2_profile_8388608_segsize_.nvprof\n"
          ]
        }
      ],
      "source": [
        "from google.colab import drive\n",
        "drive.mount('/content/drive')\n",
        "%cd '/content/drive/MyDrive/Colab Notebooks/DD2360 Applied GPU Programming KTH/hw_4/ex_2'\n",
        "!ls"
      ]
    },
    {
      "cell_type": "code",
      "execution_count": null,
      "metadata": {
        "colab": {
          "base_uri": "https://localhost:8080/"
        },
        "id": "tDbmJXh06LOk",
        "outputId": "a6d92f28-27fe-4425-ba27-c92a7390890d"
      },
      "outputs": [
        {
          "output_type": "stream",
          "name": "stdout",
          "text": [
            "The input length is 131070.\n"
          ]
        }
      ],
      "source": [
        "!nvcc -arch=sm_75 ./lab4_ex2.cu -o lab4_ex2\n",
        "!./lab4_ex2 131070"
      ]
    },
    {
      "cell_type": "code",
      "execution_count": null,
      "metadata": {
        "colab": {
          "base_uri": "https://localhost:8080/"
        },
        "id": "fvW0ViFU70Jh",
        "outputId": "7cfca787-2c1a-4812-ede8-41e8b14c4668"
      },
      "outputs": [
        {
          "output_type": "stream",
          "name": "stdout",
          "text": [
            "The input length is 131070.\n",
            "==PROF== Connected to process 814 (/content/drive/MyDrive/Colab Notebooks/DD2360 Applied GPU Programming KTH/hw_4/ex_2/lab4_ex2)\n",
            "==PROF== Profiling \"vecAdd\" - 1: 0%....50%....100% - 8 passes\n",
            "==PROF== Profiling \"vecAdd\" - 2: 0%....50%....100% - 8 passes\n",
            "==PROF== Profiling \"vecAdd\" - 3: 0%....50%....100% - 8 passes\n",
            "==PROF== Profiling \"vecAdd\" - 4: 0%....50%....100% - 8 passes\n",
            "==ERROR== The application returned an error code (11).\n",
            "[814] lab4_ex2@127.0.0.1\n",
            "  vecAdd(double*, double*, double*, int, int), 2023-Jan-07 10:11:35, Context 1, Stream 13\n",
            "    Section: GPU Speed Of Light\n",
            "    ---------------------------------------------------------------------- --------------- ------------------------------\n",
            "    DRAM Frequency                                                           cycle/nsecond                           4.90\n",
            "    SM Frequency                                                             cycle/usecond                         567.71\n",
            "    Elapsed Cycles                                                                   cycle                          3,493\n",
            "    Memory [%]                                                                           %                          30.26\n",
            "    SOL DRAM                                                                             %                          30.26\n",
            "    Duration                                                                       usecond                           6.14\n",
            "    SOL L1/TEX Cache                                                                     %                          18.97\n",
            "    SOL L2 Cache                                                                         %                          15.57\n",
            "    SM Active Cycles                                                                 cycle                       2,159.07\n",
            "    SM [%]                                                                               %                          11.74\n",
            "    ---------------------------------------------------------------------- --------------- ------------------------------\n",
            "    WRN   This kernel exhibits low compute throughput and memory bandwidth utilization relative to the peak performance \n",
            "          of this device. Achieved compute throughput and/or memory bandwidth below 60.0% of peak typically indicate    \n",
            "          latency issues. Look at Scheduler Statistics and Warp State Statistics for potential reasons.                 \n",
            "\n",
            "    Section: Launch Statistics\n",
            "    ---------------------------------------------------------------------- --------------- ------------------------------\n",
            "    Block Size                                                                                                        128\n",
            "    Function Cache Configuration                                                                  cudaFuncCachePreferNone\n",
            "    Grid Size                                                                                                       1,024\n",
            "    Registers Per Thread                                                   register/thread                             16\n",
            "    Shared Memory Configuration Size                                                 Kbyte                          32.77\n",
            "    Driver Shared Memory Per Block                                              byte/block                              0\n",
            "    Dynamic Shared Memory Per Block                                             byte/block                              0\n",
            "    Static Shared Memory Per Block                                              byte/block                              0\n",
            "    Threads                                                                         thread                        131,072\n",
            "    Waves Per SM                                                                                                     3.20\n",
            "    ---------------------------------------------------------------------- --------------- ------------------------------\n",
            "    WRN   A wave of thread blocks is defined as the maximum number of blocks that can be executed in parallel on the    \n",
            "          target GPU. The number of blocks in a wave depends on the number of multiprocessors and the theoretical       \n",
            "          occupancy of the kernel. This kernel launch results in 3 full waves and a partial wave of 64 thread blocks.   \n",
            "          Under the assumption of a uniform execution duration of all thread blocks, the partial wave may account for   \n",
            "          up to 25.0% of the total kernel runtime with a lower occupancy of 31.6%. Try launching a grid with no         \n",
            "          partial wave. The overall impact of this tail effect also lessens with the number of full waves executed for  \n",
            "          a grid.                                                                                                       \n",
            "\n",
            "    Section: Occupancy\n",
            "    ---------------------------------------------------------------------- --------------- ------------------------------\n",
            "    Block Limit SM                                                                   block                             16\n",
            "    Block Limit Registers                                                            block                             32\n",
            "    Block Limit Shared Mem                                                           block                             16\n",
            "    Block Limit Warps                                                                block                              8\n",
            "    Theoretical Active Warps per SM                                                   warp                             32\n",
            "    Theoretical Occupancy                                                                %                            100\n",
            "    Achieved Occupancy                                                                   %                          68.41\n",
            "    Achieved Active Warps Per SM                                                      warp                          21.89\n",
            "    ---------------------------------------------------------------------- --------------- ------------------------------\n",
            "\n",
            "  vecAdd(double*, double*, double*, int, int), 2023-Jan-07 10:11:35, Context 1, Stream 14\n",
            "    Section: GPU Speed Of Light\n",
            "    ---------------------------------------------------------------------- --------------- ------------------------------\n",
            "    DRAM Frequency                                                           cycle/nsecond                           4.89\n",
            "    SM Frequency                                                             cycle/usecond                         571.05\n",
            "    Elapsed Cycles                                                                   cycle                          3,531\n",
            "    Memory [%]                                                                           %                          33.89\n",
            "    SOL DRAM                                                                             %                          33.89\n",
            "    Duration                                                                       usecond                           6.18\n",
            "    SOL L1/TEX Cache                                                                     %                          19.73\n",
            "    SOL L2 Cache                                                                         %                          16.23\n",
            "    SM Active Cycles                                                                 cycle                       2,225.75\n",
            "    SM [%]                                                                               %                          11.61\n",
            "    ---------------------------------------------------------------------- --------------- ------------------------------\n",
            "    WRN   This kernel exhibits low compute throughput and memory bandwidth utilization relative to the peak performance \n",
            "          of this device. Achieved compute throughput and/or memory bandwidth below 60.0% of peak typically indicate    \n",
            "          latency issues. Look at Scheduler Statistics and Warp State Statistics for potential reasons.                 \n",
            "\n",
            "    Section: Launch Statistics\n",
            "    ---------------------------------------------------------------------- --------------- ------------------------------\n",
            "    Block Size                                                                                                        128\n",
            "    Function Cache Configuration                                                                  cudaFuncCachePreferNone\n",
            "    Grid Size                                                                                                       1,024\n",
            "    Registers Per Thread                                                   register/thread                             16\n",
            "    Shared Memory Configuration Size                                                 Kbyte                          32.77\n",
            "    Driver Shared Memory Per Block                                              byte/block                              0\n",
            "    Dynamic Shared Memory Per Block                                             byte/block                              0\n",
            "    Static Shared Memory Per Block                                              byte/block                              0\n",
            "    Threads                                                                         thread                        131,072\n",
            "    Waves Per SM                                                                                                     3.20\n",
            "    ---------------------------------------------------------------------- --------------- ------------------------------\n",
            "    WRN   A wave of thread blocks is defined as the maximum number of blocks that can be executed in parallel on the    \n",
            "          target GPU. The number of blocks in a wave depends on the number of multiprocessors and the theoretical       \n",
            "          occupancy of the kernel. This kernel launch results in 3 full waves and a partial wave of 64 thread blocks.   \n",
            "          Under the assumption of a uniform execution duration of all thread blocks, the partial wave may account for   \n",
            "          up to 25.0% of the total kernel runtime with a lower occupancy of 30.7%. Try launching a grid with no         \n",
            "          partial wave. The overall impact of this tail effect also lessens with the number of full waves executed for  \n",
            "          a grid.                                                                                                       \n",
            "\n",
            "    Section: Occupancy\n",
            "    ---------------------------------------------------------------------- --------------- ------------------------------\n",
            "    Block Limit SM                                                                   block                             16\n",
            "    Block Limit Registers                                                            block                             32\n",
            "    Block Limit Shared Mem                                                           block                             16\n",
            "    Block Limit Warps                                                                block                              8\n",
            "    Theoretical Active Warps per SM                                                   warp                             32\n",
            "    Theoretical Occupancy                                                                %                            100\n",
            "    Achieved Occupancy                                                                   %                          69.30\n",
            "    Achieved Active Warps Per SM                                                      warp                          22.17\n",
            "    ---------------------------------------------------------------------- --------------- ------------------------------\n",
            "\n",
            "  vecAdd(double*, double*, double*, int, int), 2023-Jan-07 10:11:36, Context 1, Stream 15\n",
            "    Section: GPU Speed Of Light\n",
            "    ---------------------------------------------------------------------- --------------- ------------------------------\n",
            "    DRAM Frequency                                                           cycle/nsecond                           4.85\n",
            "    SM Frequency                                                             cycle/usecond                         559.18\n",
            "    Elapsed Cycles                                                                   cycle                          3,475\n",
            "    Memory [%]                                                                           %                          34.23\n",
            "    SOL DRAM                                                                             %                          34.23\n",
            "    Duration                                                                       usecond                           6.21\n",
            "    SOL L1/TEX Cache                                                                     %                          20.01\n",
            "    SOL L2 Cache                                                                         %                          16.45\n",
            "    SM Active Cycles                                                                 cycle                          2,189\n",
            "    SM [%]                                                                               %                          11.80\n",
            "    ---------------------------------------------------------------------- --------------- ------------------------------\n",
            "    WRN   This kernel exhibits low compute throughput and memory bandwidth utilization relative to the peak performance \n",
            "          of this device. Achieved compute throughput and/or memory bandwidth below 60.0% of peak typically indicate    \n",
            "          latency issues. Look at Scheduler Statistics and Warp State Statistics for potential reasons.                 \n",
            "\n",
            "    Section: Launch Statistics\n",
            "    ---------------------------------------------------------------------- --------------- ------------------------------\n",
            "    Block Size                                                                                                        128\n",
            "    Function Cache Configuration                                                                  cudaFuncCachePreferNone\n",
            "    Grid Size                                                                                                       1,024\n",
            "    Registers Per Thread                                                   register/thread                             16\n",
            "    Shared Memory Configuration Size                                                 Kbyte                          32.77\n",
            "    Driver Shared Memory Per Block                                              byte/block                              0\n",
            "    Dynamic Shared Memory Per Block                                             byte/block                              0\n",
            "    Static Shared Memory Per Block                                              byte/block                              0\n",
            "    Threads                                                                         thread                        131,072\n",
            "    Waves Per SM                                                                                                     3.20\n",
            "    ---------------------------------------------------------------------- --------------- ------------------------------\n",
            "    WRN   A wave of thread blocks is defined as the maximum number of blocks that can be executed in parallel on the    \n",
            "          target GPU. The number of blocks in a wave depends on the number of multiprocessors and the theoretical       \n",
            "          occupancy of the kernel. This kernel launch results in 3 full waves and a partial wave of 64 thread blocks.   \n",
            "          Under the assumption of a uniform execution duration of all thread blocks, the partial wave may account for   \n",
            "          up to 25.0% of the total kernel runtime with a lower occupancy of 31.5%. Try launching a grid with no         \n",
            "          partial wave. The overall impact of this tail effect also lessens with the number of full waves executed for  \n",
            "          a grid.                                                                                                       \n",
            "\n",
            "    Section: Occupancy\n",
            "    ---------------------------------------------------------------------- --------------- ------------------------------\n",
            "    Block Limit SM                                                                   block                             16\n",
            "    Block Limit Registers                                                            block                             32\n",
            "    Block Limit Shared Mem                                                           block                             16\n",
            "    Block Limit Warps                                                                block                              8\n",
            "    Theoretical Active Warps per SM                                                   warp                             32\n",
            "    Theoretical Occupancy                                                                %                            100\n",
            "    Achieved Occupancy                                                                   %                          68.50\n",
            "    Achieved Active Warps Per SM                                                      warp                          21.92\n",
            "    ---------------------------------------------------------------------- --------------- ------------------------------\n",
            "\n",
            "  vecAdd(double*, double*, double*, int, int), 2023-Jan-07 10:11:36, Context 1, Stream 16\n",
            "    Section: GPU Speed Of Light\n",
            "    ---------------------------------------------------------------------- --------------- ------------------------------\n",
            "    DRAM Frequency                                                           cycle/nsecond                           4.87\n",
            "    SM Frequency                                                             cycle/usecond                         563.37\n",
            "    Elapsed Cycles                                                                   cycle                          3,502\n",
            "    Memory [%]                                                                           %                          33.98\n",
            "    SOL DRAM                                                                             %                          33.98\n",
            "    Duration                                                                       usecond                           6.21\n",
            "    SOL L1/TEX Cache                                                                     %                          19.84\n",
            "    SOL L2 Cache                                                                         %                          16.32\n",
            "    SM Active Cycles                                                                 cycle                       2,206.53\n",
            "    SM [%]                                                                               %                          11.71\n",
            "    ---------------------------------------------------------------------- --------------- ------------------------------\n",
            "    WRN   This kernel exhibits low compute throughput and memory bandwidth utilization relative to the peak performance \n",
            "          of this device. Achieved compute throughput and/or memory bandwidth below 60.0% of peak typically indicate    \n",
            "          latency issues. Look at Scheduler Statistics and Warp State Statistics for potential reasons.                 \n",
            "\n",
            "    Section: Launch Statistics\n",
            "    ---------------------------------------------------------------------- --------------- ------------------------------\n",
            "    Block Size                                                                                                        128\n",
            "    Function Cache Configuration                                                                  cudaFuncCachePreferNone\n",
            "    Grid Size                                                                                                       1,024\n",
            "    Registers Per Thread                                                   register/thread                             16\n",
            "    Shared Memory Configuration Size                                                 Kbyte                          32.77\n",
            "    Driver Shared Memory Per Block                                              byte/block                              0\n",
            "    Dynamic Shared Memory Per Block                                             byte/block                              0\n",
            "    Static Shared Memory Per Block                                              byte/block                              0\n",
            "    Threads                                                                         thread                        131,072\n",
            "    Waves Per SM                                                                                                     3.20\n",
            "    ---------------------------------------------------------------------- --------------- ------------------------------\n",
            "    WRN   A wave of thread blocks is defined as the maximum number of blocks that can be executed in parallel on the    \n",
            "          target GPU. The number of blocks in a wave depends on the number of multiprocessors and the theoretical       \n",
            "          occupancy of the kernel. This kernel launch results in 3 full waves and a partial wave of 64 thread blocks.   \n",
            "          Under the assumption of a uniform execution duration of all thread blocks, the partial wave may account for   \n",
            "          up to 25.0% of the total kernel runtime with a lower occupancy of 31.4%. Try launching a grid with no         \n",
            "          partial wave. The overall impact of this tail effect also lessens with the number of full waves executed for  \n",
            "          a grid.                                                                                                       \n",
            "\n",
            "    Section: Occupancy\n",
            "    ---------------------------------------------------------------------- --------------- ------------------------------\n",
            "    Block Limit SM                                                                   block                             16\n",
            "    Block Limit Registers                                                            block                             32\n",
            "    Block Limit Shared Mem                                                           block                             16\n",
            "    Block Limit Warps                                                                block                              8\n",
            "    Theoretical Active Warps per SM                                                   warp                             32\n",
            "    Theoretical Occupancy                                                                %                            100\n",
            "    Achieved Occupancy                                                                   %                          68.63\n",
            "    Achieved Active Warps Per SM                                                      warp                          21.96\n",
            "    ---------------------------------------------------------------------- --------------- ------------------------------\n",
            "\n"
          ]
        }
      ],
      "source": [
        "!/usr/local/cuda-11/bin/nv-nsight-cu-cli ./lab4_ex2 131070"
      ]
    },
    {
      "cell_type": "code",
      "execution_count": null,
      "metadata": {
        "colab": {
          "base_uri": "https://localhost:8080/"
        },
        "id": "wh3rPA1pqGLJ",
        "outputId": "b2fd41ca-d874-4fff-9ed1-31a2ad8ed000"
      },
      "outputs": [
        {
          "output_type": "stream",
          "name": "stdout",
          "text": [
            "The input length is 2097152.\n",
            "==877== NVPROF is profiling process 877, command: ./lab4_ex2 2097152\n",
            "Time Data copy (H2D + D2H) and CUDA kernel: 0.003543.\n",
            "CPU and GPU results are equal.\n",
            "==877== Profiling application: ./lab4_ex2 2097152\n",
            "==877== Profiling result:\n",
            "            Type  Time(%)      Time     Calls       Avg       Min       Max  Name\n",
            " GPU activities:   61.90%  3.0579ms         8  382.24us  356.89us  412.09us  [CUDA memcpy HtoD]\n",
            "                   32.21%  1.5911ms         4  397.78us  320.41us  432.69us  [CUDA memcpy DtoH]\n",
            "                    5.89%  291.00us         4  72.750us  68.574us  75.487us  vecAdd(double*, double*, double*, int, int)\n",
            "      API calls:   95.23%  336.20ms         4  84.049ms  6.5816ms  316.25ms  cudaHostAlloc\n",
            "                    2.97%  10.477ms         4  2.6193ms  2.4105ms  3.1386ms  cudaFreeHost\n",
            "                    0.96%  3.3739ms         1  3.3739ms  3.3739ms  3.3739ms  cudaDeviceSynchronize\n",
            "                    0.49%  1.7173ms         3  572.42us  210.53us  755.93us  cudaFree\n",
            "                    0.14%  501.66us         3  167.22us  99.054us  267.73us  cudaMalloc\n",
            "                    0.11%  374.30us         1  374.30us  374.30us  374.30us  cuDeviceTotalMem\n",
            "                    0.05%  159.55us       101  1.5790us     131ns  69.557us  cuDeviceGetAttribute\n",
            "                    0.02%  80.478us        12  6.7060us  3.1720us  30.941us  cudaMemcpyAsync\n",
            "                    0.02%  54.512us         4  13.628us  6.4300us  33.221us  cudaLaunchKernel\n",
            "                    0.01%  38.228us         1  38.228us  38.228us  38.228us  cuDeviceGetName\n",
            "                    0.01%  33.779us         4  8.4440us  1.5970us  28.049us  cudaStreamCreate\n",
            "                    0.01%  18.802us         4  4.7000us  2.0860us  12.249us  cudaStreamDestroy\n",
            "                    0.00%  5.5760us         1  5.5760us  5.5760us  5.5760us  cuDeviceGetPCIBusId\n",
            "                    0.00%  1.4090us         3     469ns     222ns     853ns  cuDeviceGetCount\n",
            "                    0.00%  1.2860us         2     643ns     295ns     991ns  cuDeviceGet\n",
            "                    0.00%     249ns         1     249ns     249ns     249ns  cuDeviceGetUuid\n"
          ]
        }
      ],
      "source": [
        "!nvcc -arch=sm_75 ./lab4_ex2.cu -o lab4_ex2\n",
        "!nvprof ./lab4_ex2 2097152"
      ]
    },
    {
      "cell_type": "code",
      "execution_count": null,
      "metadata": {
        "colab": {
          "base_uri": "https://localhost:8080/",
          "height": 544
        },
        "id": "gCcZESYAkUFU",
        "outputId": "6e6c5a9e-1da3-4e2d-a8b4-e5a04c4c9021"
      },
      "outputs": [
        {
          "output_type": "display_data",
          "data": {
            "text/plain": [
              "<Figure size 1332x756 with 2 Axes>"
            ],
            "image/png": "[encoded data removed]"
          },
          "metadata": {
            "needs_background": "light"
          }
        }
      ],
      "source": [
        "# Question 1\n",
        "import matplotlib.pyplot as plt\n",
        "import numpy as np\n",
        "\n",
        "vector_lengths = ['131072', '524288', '2097152', '8388608', '33554432', '134217728']\n",
        "datacpy_h2d_abs = np.array([224.60*10**(-3), 781.75*10**(-3), 3.0231,          12.071, 48.373, 192.85])\n",
        "datacpy_d2h_abs = np.array([113.21*10**(-3), 391.55*10**(-3), 1.5828,          6.3170, 25.300, 101.28])\n",
        "cuda_kernel_abs = np.array([38.720*10**(-3), 75.646*10**(-3), 290.81*10**(-3), 1.2167, 4.9207, 19.861])\n",
        "\n",
        "datacpy_h2d_rel = np.array([59.65, 61.90, 61.74, 61.57, 61.55, 61.42])\n",
        "datacpy_d2h_rel = np.array([30.07, 32.00, 32.32, 32.22, 32.19, 32.26])\n",
        "cuda_kernel_rel = np.array([10.28,  6.10,  5.94,  6.21,  6.26,  6.33])\n",
        "\n",
        "width = 0.4\n",
        "fig, ax = plt.subplots(1, 2)\n",
        "\n",
        "ax[0].bar(vector_lengths, cuda_kernel_abs, width, label='CUDA kernel')\n",
        "ax[0].bar(vector_lengths, datacpy_h2d_abs, width, bottom=cuda_kernel_abs,\n",
        "       label='Data copy (H2D)')\n",
        "ax[0].bar(vector_lengths, datacpy_d2h_abs, width, bottom=datacpy_h2d_abs+cuda_kernel_abs,\n",
        "       label='Data copy (D2H)')\n",
        "\n",
        "ax[0].set_xlabel('Vector lengths')\n",
        "ax[0].set_ylabel('Execution time (ms)')\n",
        "ax[0].set_title('Breakdown of time (absolute)')\n",
        "ax[0].legend()\n",
        "\n",
        "ax[1].bar(vector_lengths, cuda_kernel_rel, width, label='CUDA kernel')\n",
        "ax[1].bar(vector_lengths, datacpy_h2d_rel, width, bottom=cuda_kernel_rel,\n",
        "       label='Data copy (H2D)')\n",
        "ax[1].bar(vector_lengths, datacpy_d2h_rel, width, bottom=datacpy_h2d_rel+cuda_kernel_rel,\n",
        "       label='Data copy (D2H)')\n",
        "\n",
        "ax[1].set_xlabel('Vector lengths')\n",
        "ax[1].set_ylabel('Fraction of execution time (%)')\n",
        "ax[1].set_title('Breakdown of time (relative)')\n",
        "ax[1].legend()\n",
        "\n",
        "fig.set_size_inches(18.5, 10.5, forward=True)\n",
        "plt.show()"
      ]
    },
    {
      "cell_type": "code",
      "source": [
        "# Question 2\n",
        "!nvprof --output-profile hw4_ex2_profile_8388608_1stream.nvprof -f ./lab4_ex2 8388608"
      ],
      "metadata": {
        "colab": {
          "base_uri": "https://localhost:8080/"
        },
        "id": "AgWnKiTSAhwQ",
        "outputId": "8621655a-2dc1-4449-ef09-260080ca88e3"
      },
      "execution_count": null,
      "outputs": [
        {
          "output_type": "stream",
          "name": "stdout",
          "text": [
            "The input length is 8388608.\n",
            "==12718== NVPROF is profiling process 12718, command: ./lab4_ex2 8388608\n",
            "Time Data copy (H2D + D2H) and CUDA kernel: 0.016832.\n",
            "CPU and GPU results are equal.\n",
            "==12718== Generated result file: /content/drive/MyDrive/Colab Notebooks/DD2360 Applied GPU Programming KTH/hw_4/ex_2/hw4_ex2_profile_8388608_1stream.nvprof\n"
          ]
        }
      ]
    },
    {
      "cell_type": "code",
      "source": [
        "# Question 3\n",
        "!nvcc -arch=sm_75 ./lab4_ex2.cu -o lab4_ex2\n",
        "#!printf \"set cuda memcheck on\\nset cuda api_failures stop\\ncatch throw\\nr\\nbt\\ninfo locals\\nthread 1\\nbt\\n\" > ./tmp.txt\n",
        "#!cuda-gdb -batch -x tmp.txt --args ./lab4_ex2 50\n",
        "#!./lab4_ex2 1000\n",
        "!nvprof ./lab4_ex2 8388608"
      ],
      "metadata": {
        "colab": {
          "base_uri": "https://localhost:8080/"
        },
        "id": "dn3o5LfV3lpQ",
        "outputId": "b633e010-f736-4ddd-f2b8-a4ce029c8a31"
      },
      "execution_count": null,
      "outputs": [
        {
          "output_type": "stream",
          "name": "stdout",
          "text": [
            "The input length is 8388608.\n",
            "==30929== NVPROF is profiling process 30929, command: ./lab4_ex2 8388608\n",
            "Time Data copy (H2D + D2H) and CUDA kernel: 0.013071.\n",
            "CPU and GPU results are equal.\n",
            "==30929== Profiling application: ./lab4_ex2 8388608\n",
            "==30929== Profiling result:\n",
            "            Type  Time(%)      Time     Calls       Avg       Min       Max  Name\n",
            " GPU activities:   59.20%  12.361ms        18  686.71us  273.43us  784.78us  [CUDA memcpy HtoD]\n",
            "                   31.49%  6.5737ms         9  730.41us  237.37us  821.74us  [CUDA memcpy DtoH]\n",
            "                    9.31%  1.9443ms         9  216.03us  173.31us  224.03us  vecAdd(double*, double*, double*, int, int)\n",
            "      API calls:   87.90%  414.69ms         4  103.67ms  25.820ms  334.70ms  cudaHostAlloc\n",
            "                    8.54%  40.265ms         4  10.066ms  9.5621ms  11.399ms  cudaFreeHost\n",
            "                    2.72%  12.815ms         1  12.815ms  12.815ms  12.815ms  cudaDeviceSynchronize\n",
            "                    0.52%  2.4529ms         3  817.64us  271.76us  1.1309ms  cudaFree\n",
            "                    0.14%  672.85us         3  224.28us  155.42us  357.16us  cudaMalloc\n",
            "                    0.08%  376.12us         1  376.12us  376.12us  376.12us  cuDeviceTotalMem\n",
            "                    0.03%  159.91us       101  1.5830us     130ns  71.723us  cuDeviceGetAttribute\n",
            "                    0.03%  128.43us        27  4.7560us  2.4580us  30.570us  cudaMemcpyAsync\n",
            "                    0.02%  89.128us         9  9.9030us  4.0820us  45.463us  cudaLaunchKernel\n",
            "                    0.01%  45.665us         4  11.416us  1.7960us  39.361us  cudaStreamCreate\n",
            "                    0.01%  32.646us         1  32.646us  32.646us  32.646us  cuDeviceGetName\n",
            "                    0.00%  18.718us         4  4.6790us  2.1410us  11.864us  cudaStreamDestroy\n",
            "                    0.00%  6.0950us         1  6.0950us  6.0950us  6.0950us  cuDeviceGetPCIBusId\n",
            "                    0.00%  1.6700us         3     556ns     183ns  1.1130us  cuDeviceGetCount\n",
            "                    0.00%  1.5950us         2     797ns     330ns  1.2650us  cuDeviceGet\n",
            "                    0.00%     257ns         1     257ns     257ns     257ns  cuDeviceGetUuid\n"
          ]
        }
      ]
    },
    {
      "cell_type": "code",
      "source": [
        "# Question 3\n",
        "import matplotlib.pyplot as plt\n",
        "import numpy as np\n",
        "\n",
        "segment_sizes = ['10', '100', '1,000', '10,000', '100,000', '1,000,000']\n",
        "datacpy_d2h_abs = np.array([1.21222*10**(3),          126.25, 16.080, 6.9546, 7.2589, 6.8279])\n",
        "datacpy_h2d_abs = np.array([3.82977*10**(3),          399.29, 52.769, 17.569, 13.682, 12.952])\n",
        "cuda_kernel_abs = np.array([52.9683*10**(3), 5.43207*10**(3), 670.95, 127.43, 13.120, 1.9356])\n",
        "\n",
        "datacpy_d2h_rel = np.array([ 2.09,  2.12,  2.17,  4.58, 21.31, 31.44])\n",
        "datacpy_h2d_rel = np.array([ 6.60,  6.70,  7.13, 11.56, 40.17, 59.64])\n",
        "cuda_kernel_rel = np.array([91.31, 91.18, 90.69, 83.86, 38.52,  8.91])\n",
        "\n",
        "width = 0.4\n",
        "fig, ax = plt.subplots(1, 2)\n",
        "\n",
        "ax[0].bar(segment_sizes, cuda_kernel_abs, width, label='CUDA kernel')\n",
        "ax[0].bar(segment_sizes, datacpy_h2d_abs, width, bottom=cuda_kernel_abs,\n",
        "       label='Data copy (H2D)')\n",
        "ax[0].bar(segment_sizes, datacpy_d2h_abs, width, bottom=datacpy_h2d_abs+cuda_kernel_abs,\n",
        "       label='Data copy (D2H)')\n",
        "\n",
        "ax[0].set_xlabel('Segment sizes')\n",
        "ax[0].set_ylabel('Execution time (ms)')\n",
        "ax[0].set_title('Breakdown of time (absolute)')\n",
        "ax[0].legend()\n",
        "\n",
        "ax[1].bar(segment_sizes, cuda_kernel_rel, width, label='CUDA kernel')\n",
        "ax[1].bar(segment_sizes, datacpy_h2d_rel, width, bottom=cuda_kernel_rel,\n",
        "       label='Data copy (H2D)')\n",
        "ax[1].bar(segment_sizes, datacpy_d2h_rel, width, bottom=datacpy_h2d_rel+cuda_kernel_rel,\n",
        "       label='Data copy (D2H)')\n",
        "\n",
        "ax[1].set_xlabel('Segment sizes')\n",
        "ax[1].set_ylabel('Fraction of execution time (%)')\n",
        "ax[1].set_title('Breakdown of time (relative)')\n",
        "ax[1].legend()\n",
        "\n",
        "fig.set_size_inches(18.5, 10.5, forward=True)\n",
        "plt.show()"
      ],
      "metadata": {
        "id": "av9G1mKk_7Mv",
        "colab": {
          "base_uri": "https://localhost:8080/",
          "height": 649
        },
        "outputId": "5063ce46-b7b5-4516-a231-dd1c06e43025"
      },
      "execution_count": 2,
      "outputs": [
        {
          "output_type": "display_data",
          "data": {
            "text/plain": [
              "<Figure size 1332x756 with 2 Axes>"
            ],
            "image/png": "[encoded data removed]"
          },
          "metadata": {
            "needs_background": "light"
          }
        }
      ]
    }
  ],
  "metadata": {
    "accelerator": "GPU",
    "colab": {
      "provenance": []
    },
    "gpuClass": "standard",
    "kernelspec": {
      "display_name": "Python 3",
      "language": "python",
      "name": "python3"
    },
    "language_info": {
      "name": "python",
      "version": "3.8.10 (default, Nov 14 2022, 12:59:47) \n[GCC 9.4.0]"
    },
    "vscode": {
      "interpreter": {
        "hash": "916dbcbb3f70747c44a77c7bcd40155683ae19c65e1c03b4aa3499c5328201f1"
      }
    }
  },
  "nbformat": 4,
  "nbformat_minor": 0
}