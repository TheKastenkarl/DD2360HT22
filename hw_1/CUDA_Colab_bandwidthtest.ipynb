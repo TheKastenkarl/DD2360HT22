{
  "nbformat": 4,
  "nbformat_minor": 0,
  "metadata": {
    "colab": {
      "provenance": []
    },
    "kernelspec": {
      "name": "python3",
      "display_name": "Python 3"
    },
    "language_info": {
      "name": "python"
    },
    "accelerator": "GPU"
  },
  "cells": [
    {
      "cell_type": "code",
      "source": [
        "!nvcc --version\n",
        "!nvidia-smi"
      ],
      "metadata": {
        "colab": {
          "base_uri": "https://localhost:8080/"
        },
        "id": "OEm6GxLePnsK",
        "outputId": "1b3ad07a-798c-4a6f-9c32-d2f1cfb65e11"
      },
      "execution_count": null,
      "outputs": [
        {
          "output_type": "stream",
          "name": "stdout",
          "text": [
            "nvcc: NVIDIA (R) Cuda compiler driver\n",
            "Copyright (c) 2005-2021 NVIDIA Corporation\n",
            "Built on Sun_Feb_14_21:12:58_PST_2021\n",
            "Cuda compilation tools, release 11.2, V11.2.152\n",
            "Build cuda_11.2.r11.2/compiler.29618528_0\n",
            "Sun Nov  6 22:24:53 2022       \n",
            "+-----------------------------------------------------------------------------+\n",
            "| NVIDIA-SMI 460.32.03    Driver Version: 460.32.03    CUDA Version: 11.2     |\n",
            "|-------------------------------+----------------------+----------------------+\n",
            "| GPU  Name        Persistence-M| Bus-Id        Disp.A | Volatile Uncorr. ECC |\n",
            "| Fan  Temp  Perf  Pwr:Usage/Cap|         Memory-Usage | GPU-Util  Compute M. |\n",
            "|                               |                      |               MIG M. |\n",
            "|===============================+======================+======================|\n",
            "|   0  Tesla T4            Off  | 00000000:00:04.0 Off |                    0 |\n",
            "| N/A   49C    P8     9W /  70W |      0MiB / 15109MiB |      0%      Default |\n",
            "|                               |                      |                  N/A |\n",
            "+-------------------------------+----------------------+----------------------+\n",
            "                                                                               \n",
            "+-----------------------------------------------------------------------------+\n",
            "| Processes:                                                                  |\n",
            "|  GPU   GI   CI        PID   Type   Process name                  GPU Memory |\n",
            "|        ID   ID                                                   Usage      |\n",
            "|=============================================================================|\n",
            "|  No running processes found                                                 |\n",
            "+-----------------------------------------------------------------------------+\n"
          ]
        }
      ]
    },
    {
      "cell_type": "code",
      "source": [
        "!ls /usr/local/cuda*"
      ],
      "metadata": {
        "colab": {
          "base_uri": "https://localhost:8080/"
        },
        "id": "fCb79VybCseM",
        "outputId": "912802da-2e72-46bb-a460-86c7d0ea70af"
      },
      "execution_count": null,
      "outputs": [
        {
          "output_type": "stream",
          "name": "stdout",
          "text": [
            "/usr/local/cuda:\n",
            "bin\t\t   EULA.txt  libnvvp\t       nvvm-prev  src\n",
            "compat\t\t   extras    nsightee_plugins  README\t  targets\n",
            "compute-sanitizer  include   nvml\t       samples\t  tools\n",
            "DOCS\t\t   lib64     nvvm\t       share\t  version.json\n",
            "\n",
            "/usr/local/cuda-11:\n",
            "bin\t\t   EULA.txt  libnvvp\t       nvvm-prev  src\n",
            "compat\t\t   extras    nsightee_plugins  README\t  targets\n",
            "compute-sanitizer  include   nvml\t       samples\t  tools\n",
            "DOCS\t\t   lib64     nvvm\t       share\t  version.json\n",
            "\n",
            "/usr/local/cuda-11.2:\n",
            "bin\t\t   EULA.txt  libnvvp\t       nvvm-prev  src\n",
            "compat\t\t   extras    nsightee_plugins  README\t  targets\n",
            "compute-sanitizer  include   nvml\t       samples\t  tools\n",
            "DOCS\t\t   lib64     nvvm\t       share\t  version.json\n"
          ]
        }
      ]
    },
    {
      "cell_type": "code",
      "source": [
        "!ls /usr/local/cuda-11/bin/*"
      ],
      "metadata": {
        "colab": {
          "base_uri": "https://localhost:8080/"
        },
        "id": "DEHINQTKP6RG",
        "outputId": "72ee20f2-653d-45ff-b620-12ecb573782c"
      },
      "execution_count": null,
      "outputs": [
        {
          "output_type": "stream",
          "name": "stdout",
          "text": [
            "/usr/local/cuda-11/bin/bin2c\n",
            "/usr/local/cuda-11/bin/computeprof\n",
            "/usr/local/cuda-11/bin/compute-sanitizer\n",
            "/usr/local/cuda-11/bin/cudafe++\n",
            "/usr/local/cuda-11/bin/cuda-gdb\n",
            "/usr/local/cuda-11/bin/cuda-gdbserver\n",
            "/usr/local/cuda-11/bin/cuda-install-samples-11.2.sh\n",
            "/usr/local/cuda-11/bin/cuda-memcheck\n",
            "/usr/local/cuda-11/bin/cu++filt\n",
            "/usr/local/cuda-11/bin/cuobjdump\n",
            "/usr/local/cuda-11/bin/fatbinary\n",
            "/usr/local/cuda-11/bin/ncu\n",
            "/usr/local/cuda-11/bin/ncu-ui\n",
            "/usr/local/cuda-11/bin/nsight_ee_plugins_manage.sh\n",
            "/usr/local/cuda-11/bin/nsight-sys\n",
            "/usr/local/cuda-11/bin/nsys\n",
            "/usr/local/cuda-11/bin/nsys-exporter\n",
            "/usr/local/cuda-11/bin/nsys-ui\n",
            "/usr/local/cuda-11/bin/nvcc\n",
            "/usr/local/cuda-11/bin/nvcc.profile\n",
            "/usr/local/cuda-11/bin/nvdisasm\n",
            "/usr/local/cuda-11/bin/nvlink\n",
            "/usr/local/cuda-11/bin/nv-nsight-cu\n",
            "/usr/local/cuda-11/bin/nv-nsight-cu-cli\n",
            "/usr/local/cuda-11/bin/nvprof\n",
            "/usr/local/cuda-11/bin/nvprune\n",
            "/usr/local/cuda-11/bin/nvvp\n",
            "/usr/local/cuda-11/bin/ptxas\n",
            "\n",
            "/usr/local/cuda-11/bin/crt:\n",
            "link.stub  prelink.stub\n"
          ]
        }
      ]
    },
    {
      "cell_type": "code",
      "source": [
        "!ls /usr/local/cuda-11/samples/*"
      ],
      "metadata": {
        "colab": {
          "base_uri": "https://localhost:8080/"
        },
        "id": "6Pl8KP0uQFdp",
        "outputId": "5c56fdf6-d008-4f2f-f15a-1d6b91b9a1e1"
      },
      "execution_count": null,
      "outputs": [
        {
          "output_type": "stream",
          "name": "stdout",
          "text": [
            "/usr/local/cuda-11/samples/EULA.txt  /usr/local/cuda-11/samples/Makefile\n",
            "\n",
            "/usr/local/cuda-11/samples/0_Simple:\n",
            "asyncAPI\t\t      simpleCudaGraphs\n",
            "bf16TensorCoreGemm\t      simpleDrvRuntime\n",
            "binaryPartitionCG\t      simpleIPC\n",
            "cdpSimplePrint\t\t      simpleLayeredTexture\n",
            "cdpSimpleQuicksort\t      simpleMPI\n",
            "clock\t\t\t      simpleMultiCopy\n",
            "clock_nvrtc\t\t      simpleMultiGPU\n",
            "cppIntegration\t\t      simpleOccupancy\n",
            "cppOverload\t\t      simpleP2P\n",
            "cudaNvSci\t\t      simplePitchLinearTexture\n",
            "cudaOpenMP\t\t      simplePrintf\n",
            "cudaTensorCoreGemm\t      simpleSeparateCompilation\n",
            "dmmaTensorCoreGemm\t      simpleStreams\n",
            "fp16ScalarProduct\t      simpleSurfaceWrite\n",
            "globalToShmemAsyncCopy\t      simpleTemplates\n",
            "immaTensorCoreGemm\t      simpleTemplates_nvrtc\n",
            "inlinePTX\t\t      simpleTexture\n",
            "inlinePTX_nvrtc\t\t      simpleTextureDrv\n",
            "matrixMul\t\t      simpleVoteIntrinsics\n",
            "matrixMulCUBLAS\t\t      simpleVoteIntrinsics_nvrtc\n",
            "matrixMulDrv\t\t      simpleZeroCopy\n",
            "matrixMul_nvrtc\t\t      streamOrderedAllocation\n",
            "memMapIPCDrv\t\t      streamOrderedAllocationP2P\n",
            "simpleAssert\t\t      systemWideAtomics\n",
            "simpleAssert_nvrtc\t      template\n",
            "simpleAtomicIntrinsics\t      tf32TensorCoreGemm\n",
            "simpleAtomicIntrinsics_nvrtc  UnifiedMemoryStreams\n",
            "simpleAttributes\t      vectorAdd\n",
            "simpleAWBarrier\t\t      vectorAddDrv\n",
            "simpleCallback\t\t      vectorAddMMAP\n",
            "simpleCooperativeGroups       vectorAdd_nvrtc\n",
            "simpleCubemapTexture\n",
            "\n",
            "/usr/local/cuda-11/samples/1_Utilities:\n",
            "bandwidthTest  deviceQueryDrv\t\ttopologyQuery\n",
            "deviceQuery    p2pBandwidthLatencyTest\tUnifiedMemoryPerf\n",
            "\n",
            "/usr/local/cuda-11/samples/2_Graphics:\n",
            "bindlessTexture  simpleGL\t       simpleGLES_screen  simpleVulkanMMAP\n",
            "Mandelbrot\t simpleGLES\t       simpleTexture3D\t  volumeFiltering\n",
            "marchingCubes\t simpleGLES_EGLOutput  simpleVulkan\t  volumeRender\n",
            "\n",
            "/usr/local/cuda-11/samples/3_Imaging:\n",
            "bicubicTexture\t      dxtc\t\t\t postProcessGL\n",
            "bilateralFilter       EGLStream_CUDA_CrossGPU\t recursiveGaussian\n",
            "boxFilter\t      EGLStreams_CUDA_Interop\t simpleCUDA2GL\n",
            "convolutionFFT2D      EGLSync_CUDAEvent_Interop  SobelFilter\n",
            "convolutionSeparable  histogram\t\t\t stereoDisparity\n",
            "convolutionTexture    HSOpticalFlow\t\t vulkanImageCUDA\n",
            "dct8x8\t\t      imageDenoising\n",
            "dwtHaar1D\t      NV12toBGRandResize\n",
            "\n",
            "/usr/local/cuda-11/samples/4_Finance:\n",
            "binomialOptions        BlackScholes_nvrtc    quasirandomGenerator_nvrtc\n",
            "binomialOptions_nvrtc  MonteCarloMultiGPU    SobolQRNG\n",
            "BlackScholes\t       quasirandomGenerator\n",
            "\n",
            "/usr/local/cuda-11/samples/5_Simulations:\n",
            "fluidsGL    nbody\t    nbody_screen  particles\n",
            "fluidsGLES  nbody_opengles  oceanFFT\t  smokeParticles\n",
            "\n",
            "/usr/local/cuda-11/samples/6_Advanced:\n",
            "alignedTypes\t\t\tFunctionPointers       scan\n",
            "c++11_cuda\t\t\tinterval\t       segmentationTreeThrust\n",
            "cdpAdvancedQuicksort\t\tjacobiCudaGraphs       shfl_scan\n",
            "cdpBezierTessellation\t\tlineOfSight\t       simpleHyperQ\n",
            "cdpQuadtree\t\t\tmatrixMulDynlinkJIT    sortingNetworks\n",
            "concurrentKernels\t\tmergeSort\t       StreamPriorities\n",
            "conjugateGradientMultiBlockCG\tnewdelete\t       threadFenceReduction\n",
            "conjugateGradientMultiDeviceCG\tptxjit\t\t       threadMigration\n",
            "cudaCompressibleMemory\t\tradixSortThrust        transpose\n",
            "eigenvalues\t\t\treduction\t       warpAggregatedAtomicsCG\n",
            "fastWalshTransform\t\treductionMultiBlockCG\n",
            "FDTD3d\t\t\t\tscalarProd\n",
            "\n",
            "/usr/local/cuda-11/samples/7_CUDALibraries:\n",
            "batchCUBLAS\t\t\t\t   histEqualizationNPP\n",
            "batchedLabelMarkersAndLabelCompressionNPP  MC_EstimatePiInlineP\n",
            "boundSegmentsNPP\t\t\t   MC_EstimatePiInlineQ\n",
            "boxFilterNPP\t\t\t\t   MC_EstimatePiP\n",
            "cannyEdgeDetectorNPP\t\t\t   MC_EstimatePiQ\n",
            "common\t\t\t\t\t   MC_SingleAsianOptionP\n",
            "conjugateGradient\t\t\t   MersenneTwisterGP11213\n",
            "conjugateGradientCudaGraphs\t\t   nvJPEG\n",
            "conjugateGradientPrecond\t\t   nvJPEG_encoder\n",
            "conjugateGradientUM\t\t\t   randomFog\n",
            "cuHook\t\t\t\t\t   simpleCUBLAS\n",
            "cuSolverDn_LinearSolver\t\t\t   simpleCUBLASXT\n",
            "cuSolverRf\t\t\t\t   simpleCUFFT\n",
            "cuSolverSp_LinearSolver\t\t\t   simpleCUFFT_2d_MGPU\n",
            "cuSolverSp_LowlevelCholesky\t\t   simpleCUFFT_callback\n",
            "cuSolverSp_LowlevelQR\t\t\t   simpleCUFFT_MGPU\n",
            "FilterBorderControlNPP\t\t\t   watershedSegmentationNPP\n",
            "freeImageInteropNPP\n",
            "\n",
            "/usr/local/cuda-11/samples/common:\n",
            "data  findgllib.mk  inc  lib  src\n"
          ]
        }
      ]
    },
    {
      "cell_type": "code",
      "source": [
        "!cp -rf /usr/local/cuda-11/samples/1_Utilities/bandwidthTest ./bandwidthTest"
      ],
      "metadata": {
        "id": "_qizZP6dQX85"
      },
      "execution_count": null,
      "outputs": []
    },
    {
      "cell_type": "code",
      "source": [
        "!ls bandwidthTest\n",
        "!nvcc -I/usr/local/cuda-11/samples/common/inc bandwidthTest/bandwidthTest.cu -o bandwidthTest/bandwidthTest"
      ],
      "metadata": {
        "colab": {
          "base_uri": "https://localhost:8080/"
        },
        "id": "7Ns3UCwuQ2jy",
        "outputId": "6b6524d6-b6d1-4cb3-9549-cf1ddf89c52c"
      },
      "execution_count": null,
      "outputs": [
        {
          "output_type": "stream",
          "name": "stdout",
          "text": [
            "bandwidthTest.cu  Makefile  NsightEclipse.xml  readme.txt\n"
          ]
        }
      ]
    },
    {
      "cell_type": "code",
      "source": [
        "!ls ./bandwidthTest"
      ],
      "metadata": {
        "colab": {
          "base_uri": "https://localhost:8080/"
        },
        "id": "tQjKCwPWRBYM",
        "outputId": "ead0d3cf-c02b-47f4-eed0-3fc7c1c109c0"
      },
      "execution_count": null,
      "outputs": [
        {
          "output_type": "stream",
          "name": "stdout",
          "text": [
            "bandwidthTest  bandwidthTest.cu  Makefile  NsightEclipse.xml  readme.txt\n"
          ]
        }
      ]
    },
    {
      "cell_type": "code",
      "source": [
        "!./bandwidthTest/bandwidthTest"
      ],
      "metadata": {
        "colab": {
          "base_uri": "https://localhost:8080/"
        },
        "id": "5-fV9YzBRUDk",
        "outputId": "b338d313-66c2-4e6a-e293-ae8e6c9d4260"
      },
      "execution_count": null,
      "outputs": [
        {
          "output_type": "stream",
          "name": "stdout",
          "text": [
            "[CUDA Bandwidth Test] - Starting...\n",
            "Running on...\n",
            "\n",
            " Device 0: Tesla T4\n",
            " Quick Mode\n",
            "\n",
            " Host to Device Bandwidth, 1 Device(s)\n",
            " PINNED Memory Transfers\n",
            "   Transfer Size (Bytes)\tBandwidth(GB/s)\n",
            "   32000000\t\t\t11.9\n",
            "\n",
            " Device to Host Bandwidth, 1 Device(s)\n",
            " PINNED Memory Transfers\n",
            "   Transfer Size (Bytes)\tBandwidth(GB/s)\n",
            "   32000000\t\t\t12.9\n",
            "\n",
            " Device to Device Bandwidth, 1 Device(s)\n",
            " PINNED Memory Transfers\n",
            "   Transfer Size (Bytes)\tBandwidth(GB/s)\n",
            "   32000000\t\t\t239.6\n",
            "\n",
            "Result = PASS\n",
            "\n",
            "NOTE: The CUDA Samples are not meant for performance measurements. Results may vary when GPU Boost is enabled.\n"
          ]
        }
      ]
    },
    {
      "cell_type": "code",
      "source": [
        "import matplotlib.pyplot as plt\n",
        "\n",
        "x = [\"Host to Device\", \"Device to Host\", \"Device to Device\"]\n",
        "y = [11.9, 12.9, 239.6]\n",
        "\n",
        "plt.bar(x, y, color='g', width=0.8)\n",
        "plt.ylabel('Bandwidth(GB/s)')\n",
        "plt.show()"
      ],
      "metadata": {
        "colab": {
          "base_uri": "https://localhost:8080/",
          "height": 268
        },
        "id": "FCkGLTdqFecW",
        "outputId": "aacc27e1-e0be-4bd6-ce98-3f483d7adb31"
      },
      "execution_count": null,
      "outputs": [
        {
          "output_type": "display_data",
          "data": {
            "text/plain": [
              "<Figure size 432x288 with 1 Axes>"
            ],
            "image/png": "[encoded data removed]"
          },
          "metadata": {
            "needs_background": "light"
          }
        }
      ]
    },
    {
      "cell_type": "code",
      "source": [
        "!./bandwidthTest/bandwidthTest --mode=shmoo // added"
      ],
      "metadata": {
        "colab": {
          "base_uri": "https://localhost:8080/"
        },
        "id": "caEeiQL8hety",
        "outputId": "cacf0987-53d5-49a8-901b-3c88281b70e8"
      },
      "execution_count": null,
      "outputs": [
        {
          "output_type": "stream",
          "name": "stdout",
          "text": [
            "[CUDA Bandwidth Test] - Starting...\n",
            "Running on...\n",
            "\n",
            " Device 0: Tesla T4\n",
            " Shmoo Mode\n",
            "\n",
            ".................................................................................\n",
            " Host to Device Bandwidth, 1 Device(s)\n",
            " PINNED Memory Transfers\n",
            "   Transfer Size (Bytes)\tBandwidth(GB/s)\n",
            "   1000\t\t\t\t0.5\n",
            "   2000\t\t\t\t0.9\n",
            "   3000\t\t\t\t1.3\n",
            "   4000\t\t\t\t1.7\n",
            "   5000\t\t\t\t2.0\n",
            "   6000\t\t\t\t2.1\n",
            "   7000\t\t\t\t2.4\n",
            "   8000\t\t\t\t2.9\n",
            "   9000\t\t\t\t3.0\n",
            "   10000\t\t\t3.3\n",
            "   11000\t\t\t3.5\n",
            "   12000\t\t\t3.8\n",
            "   13000\t\t\t4.0\n",
            "   14000\t\t\t4.2\n",
            "   15000\t\t\t4.4\n",
            "   16000\t\t\t4.4\n",
            "   17000\t\t\t4.5\n",
            "   18000\t\t\t4.6\n",
            "   19000\t\t\t4.9\n",
            "   20000\t\t\t5.0\n",
            "   22000\t\t\t4.7\n",
            "   24000\t\t\t5.3\n",
            "   26000\t\t\t5.3\n",
            "   28000\t\t\t5.3\n",
            "   30000\t\t\t5.6\n",
            "   32000\t\t\t5.6\n",
            "   34000\t\t\t6.2\n",
            "   36000\t\t\t6.1\n",
            "   38000\t\t\t6.6\n",
            "   40000\t\t\t6.4\n",
            "   42000\t\t\t6.5\n",
            "   44000\t\t\t6.8\n",
            "   46000\t\t\t6.9\n",
            "   48000\t\t\t7.1\n",
            "   50000\t\t\t7.2\n",
            "   60000\t\t\t7.8\n",
            "   70000\t\t\t1.0\n",
            "   80000\t\t\t8.6\n",
            "   90000\t\t\t8.9\n",
            "   100000\t\t\t9.1\n",
            "   200000\t\t\t7.9\n",
            "   300000\t\t\t10.2\n",
            "   400000\t\t\t8.6\n",
            "   500000\t\t\t9.5\n",
            "   600000\t\t\t8.6\n",
            "   700000\t\t\t9.6\n",
            "   800000\t\t\t8.8\n",
            "   900000\t\t\t9.6\n",
            "   1000000\t\t\t9.2\n",
            "   2000000\t\t\t9.5\n",
            "   3000000\t\t\t9.3\n",
            "   4000000\t\t\t9.9\n",
            "   5000000\t\t\t10.0\n",
            "   6000000\t\t\t10.4\n",
            "   7000000\t\t\t10.5\n",
            "   8000000\t\t\t10.6\n",
            "   9000000\t\t\t10.8\n",
            "   10000000\t\t\t10.9\n",
            "   11000000\t\t\t11.1\n",
            "   12000000\t\t\t11.1\n",
            "   13000000\t\t\t11.1\n",
            "   14000000\t\t\t11.4\n",
            "   15000000\t\t\t11.4\n",
            "   16000000\t\t\t11.4\n",
            "   18000000\t\t\t11.5\n",
            "   20000000\t\t\t11.5\n",
            "   22000000\t\t\t11.5\n",
            "   24000000\t\t\t11.6\n",
            "   26000000\t\t\t11.7\n",
            "   28000000\t\t\t11.7\n",
            "   30000000\t\t\t11.7\n",
            "   32000000\t\t\t11.8\n",
            "   36000000\t\t\t11.9\n",
            "   40000000\t\t\t11.9\n",
            "   44000000\t\t\t11.9\n",
            "   48000000\t\t\t11.9\n",
            "   52000000\t\t\t11.9\n",
            "   56000000\t\t\t11.9\n",
            "   60000000\t\t\t12.0\n",
            "   64000000\t\t\t12.0\n",
            "   68000000\t\t\t12.0\n",
            "\n",
            ".................................................................................\n",
            " Device to Host Bandwidth, 1 Device(s)\n",
            " PINNED Memory Transfers\n",
            "   Transfer Size (Bytes)\tBandwidth(GB/s)\n",
            "   1000\t\t\t\t0.5\n",
            "   2000\t\t\t\t1.1\n",
            "   3000\t\t\t\t1.6\n",
            "   4000\t\t\t\t2.3\n",
            "   5000\t\t\t\t3.0\n",
            "   6000\t\t\t\t3.0\n",
            "   7000\t\t\t\t3.7\n",
            "   8000\t\t\t\t4.3\n",
            "   9000\t\t\t\t4.3\n",
            "   10000\t\t\t5.0\n",
            "   11000\t\t\t5.3\n",
            "   12000\t\t\t5.6\n",
            "   13000\t\t\t5.8\n",
            "   14000\t\t\t6.0\n",
            "   15000\t\t\t6.3\n",
            "   16000\t\t\t6.5\n",
            "   17000\t\t\t6.7\n",
            "   18000\t\t\t6.6\n",
            "   19000\t\t\t7.1\n",
            "   20000\t\t\t6.9\n",
            "   22000\t\t\t7.4\n",
            "   24000\t\t\t7.8\n",
            "   26000\t\t\t8.1\n",
            "   28000\t\t\t8.3\n",
            "   30000\t\t\t8.5\n",
            "   32000\t\t\t8.7\n",
            "   34000\t\t\t8.7\n",
            "   36000\t\t\t9.1\n",
            "   38000\t\t\t9.2\n",
            "   40000\t\t\t9.4\n",
            "   42000\t\t\t9.5\n",
            "   44000\t\t\t9.5\n",
            "   46000\t\t\t9.7\n",
            "   48000\t\t\t9.8\n",
            "   50000\t\t\t9.9\n",
            "   60000\t\t\t10.1\n",
            "   70000\t\t\t10.6\n",
            "   80000\t\t\t10.8\n",
            "   90000\t\t\t11.1\n",
            "   100000\t\t\t11.2\n",
            "   200000\t\t\t10.1\n",
            "   300000\t\t\t9.0\n",
            "   400000\t\t\t10.2\n",
            "   500000\t\t\t10.5\n",
            "   600000\t\t\t12.4\n",
            "   700000\t\t\t12.2\n",
            "   800000\t\t\t11.4\n",
            "   900000\t\t\t11.3\n",
            "   1000000\t\t\t10.6\n",
            "   2000000\t\t\t11.1\n",
            "   3000000\t\t\t11.9\n",
            "   4000000\t\t\t12.0\n",
            "   5000000\t\t\t12.2\n",
            "   6000000\t\t\t12.5\n",
            "   7000000\t\t\t12.6\n",
            "   8000000\t\t\t12.7\n",
            "   9000000\t\t\t12.8\n",
            "   10000000\t\t\t12.8\n",
            "   11000000\t\t\t12.9\n",
            "   12000000\t\t\t12.9\n",
            "   13000000\t\t\t12.9\n",
            "   14000000\t\t\t12.9\n",
            "   15000000\t\t\t12.9\n",
            "   16000000\t\t\t13.0\n",
            "   18000000\t\t\t13.0\n",
            "   20000000\t\t\t13.0\n",
            "   22000000\t\t\t13.1\n",
            "   24000000\t\t\t13.1\n",
            "   26000000\t\t\t13.1\n",
            "   28000000\t\t\t13.1\n",
            "   30000000\t\t\t13.1\n",
            "   32000000\t\t\t13.1\n",
            "   36000000\t\t\t13.1\n",
            "   40000000\t\t\t13.1\n",
            "   44000000\t\t\t13.1\n",
            "   48000000\t\t\t13.1\n",
            "   52000000\t\t\t13.1\n",
            "   56000000\t\t\t13.1\n",
            "   60000000\t\t\t13.1\n",
            "   64000000\t\t\t13.1\n",
            "   68000000\t\t\t13.2\n",
            "\n",
            ".................................................................................\n",
            " Device to Device Bandwidth, 1 Device(s)\n",
            " PINNED Memory Transfers\n",
            "   Transfer Size (Bytes)\tBandwidth(GB/s)\n",
            "   1000\t\t\t\t0.5\n",
            "   2000\t\t\t\t1.1\n",
            "   3000\t\t\t\t1.7\n",
            "   4000\t\t\t\t1.9\n",
            "   5000\t\t\t\t2.9\n",
            "   6000\t\t\t\t3.5\n",
            "   7000\t\t\t\t4.1\n",
            "   8000\t\t\t\t4.8\n",
            "   9000\t\t\t\t5.3\n",
            "   10000\t\t\t6.0\n",
            "   11000\t\t\t5.0\n",
            "   12000\t\t\t6.7\n",
            "   13000\t\t\t7.7\n",
            "   14000\t\t\t7.5\n",
            "   15000\t\t\t9.1\n",
            "   16000\t\t\t8.8\n",
            "   17000\t\t\t9.5\n",
            "   18000\t\t\t9.7\n",
            "   19000\t\t\t10.6\n",
            "   20000\t\t\t12.1\n",
            "   22000\t\t\t12.7\n",
            "   24000\t\t\t14.4\n",
            "   26000\t\t\t15.5\n",
            "   28000\t\t\t16.9\n",
            "   30000\t\t\t18.5\n",
            "   32000\t\t\t17.4\n",
            "   34000\t\t\t18.1\n",
            "   36000\t\t\t20.4\n",
            "   38000\t\t\t22.2\n",
            "   40000\t\t\t24.1\n",
            "   42000\t\t\t24.8\n",
            "   44000\t\t\t24.1\n",
            "   46000\t\t\t26.6\n",
            "   48000\t\t\t28.2\n",
            "   50000\t\t\t30.1\n",
            "   60000\t\t\t37.6\n",
            "   70000\t\t\t40.8\n",
            "   80000\t\t\t47.2\n",
            "   90000\t\t\t55.3\n",
            "   100000\t\t\t58.5\n",
            "   200000\t\t\t120.8\n",
            "   300000\t\t\t183.6\n",
            "   400000\t\t\t231.5\n",
            "   500000\t\t\t308.1\n",
            "   600000\t\t\t336.0\n",
            "   700000\t\t\t431.9\n",
            "   800000\t\t\t466.8\n",
            "   900000\t\t\t487.6\n",
            "   1000000\t\t\t508.0\n",
            "   2000000\t\t\t548.8\n",
            "   3000000\t\t\t207.5\n",
            "   4000000\t\t\t214.4\n",
            "   5000000\t\t\t220.3\n",
            "   6000000\t\t\t223.5\n",
            "   7000000\t\t\t226.3\n",
            "   8000000\t\t\t228.5\n",
            "   9000000\t\t\t229.4\n",
            "   10000000\t\t\t231.0\n",
            "   11000000\t\t\t232.0\n",
            "   12000000\t\t\t232.7\n",
            "   13000000\t\t\t234.1\n",
            "   14000000\t\t\t234.8\n",
            "   15000000\t\t\t235.4\n",
            "   16000000\t\t\t235.7\n",
            "   18000000\t\t\t236.5\n",
            "   20000000\t\t\t237.2\n",
            "   22000000\t\t\t237.7\n",
            "   24000000\t\t\t237.9\n",
            "   26000000\t\t\t238.2\n",
            "   28000000\t\t\t238.7\n",
            "   30000000\t\t\t239.0\n",
            "   32000000\t\t\t239.5\n",
            "   36000000\t\t\t239.8\n",
            "   40000000\t\t\t240.2\n",
            "   44000000\t\t\t240.5\n",
            "   48000000\t\t\t240.6\n",
            "   52000000\t\t\t240.9\n",
            "   56000000\t\t\t241.0\n",
            "   60000000\t\t\t241.1\n",
            "   64000000\t\t\t242.3\n",
            "   68000000\t\t\t241.4\n",
            "\n",
            "Result = PASS\n",
            "\n",
            "NOTE: The CUDA Samples are not meant for performance measurements. Results may vary when GPU Boost is enabled.\n"
          ]
        }
      ]
    },
    {
      "cell_type": "code",
      "source": [
        "from google.colab import drive\n",
        "drive.mount('/content/drive')"
      ],
      "metadata": {
        "colab": {
          "base_uri": "https://localhost:8080/"
        },
        "id": "oukwEQnVns3Y",
        "outputId": "a522eae3-9274-4eca-b256-1df85343a349"
      },
      "execution_count": null,
      "outputs": [
        {
          "output_type": "stream",
          "name": "stdout",
          "text": [
            "Mounted at /content/drive\n"
          ]
        }
      ]
    },
    {
      "cell_type": "code",
      "source": [
        "import matplotlib.pyplot as plt\n",
        "import csv\n",
        "import re\n",
        "\n",
        "for test_case in [\"CUDA_bandwidth_test_shmoo_h2d.txt\", \"CUDA_bandwidth_test_shmoo_d2h.txt\", \"CUDA_bandwidth_test_shmoo_d2d.txt\"]:\n",
        "    # Replace multiple tabs after each other with single tab\n",
        "    with open(\"/content/drive/MyDrive/Colab Notebooks/DD2360 Applied GPU Programming KTH/Assignment_1/\" + test_case, \"rt\") as fin:\n",
        "        with open(\"out.txt\", \"wt\") as fout:\n",
        "            for line in fin:\n",
        "                fout.write(re.sub('\\t+', '\\t', line))\n",
        "\n",
        "    # create line plot\n",
        "    x = []\n",
        "    y = []\n",
        "    \n",
        "    with open(\"out.txt\") as f:\n",
        "        rows = csv.reader(f, delimiter='\\t')\n",
        "        next(rows) # skip column names\n",
        "        for row in rows:\n",
        "            x.append(int(row[0]))\n",
        "            y.append(float(row[1]))\n",
        "            #print(row[0], \"\\t\", row[1]) \n",
        "\n",
        "    plt.plot(x, y, color='g', marker='o',)\n",
        "    plt.xlabel('Transfer Size (Bytes)')\n",
        "    plt.ylabel('Bandwidth(GB/s)')\n",
        "    plt.title(test_case)\n",
        "    plt.show()"
      ],
      "metadata": {
        "id": "ZV0-hUntl0Hd",
        "colab": {
          "base_uri": "https://localhost:8080/",
          "height": 851
        },
        "outputId": "d04e32b0-328b-40cd-c87c-0f90ff5fd482"
      },
      "execution_count": null,
      "outputs": [
        {
          "output_type": "display_data",
          "data": {
            "text/plain": [
              "<Figure size 432x288 with 1 Axes>"
            ],
            "image/png": "[encoded data removed]"
          },
          "metadata": {
            "needs_background": "light"
          }
        },
        {
          "output_type": "display_data",
          "data": {
            "text/plain": [
              "<Figure size 432x288 with 1 Axes>"
            ],
            "image/png": "[encoded data removed]"
          },
          "metadata": {
            "needs_background": "light"
          }
        },
        {
          "output_type": "display_data",
          "data": {
            "text/plain": [
              "<Figure size 432x288 with 1 Axes>"
            ],
            "image/png": "[encoded data removed]"
          },
          "metadata": {
            "needs_background": "light"
          }
        }
      ]
    }
  ]
}