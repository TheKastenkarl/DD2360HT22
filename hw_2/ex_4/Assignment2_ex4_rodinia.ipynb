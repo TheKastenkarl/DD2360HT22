{
  "nbformat": 4,
  "nbformat_minor": 0,
  "metadata": {
    "colab": {
      "provenance": [],
      "collapsed_sections": []
    },
    "kernelspec": {
      "name": "python3",
      "display_name": "Python 3"
    },
    "language_info": {
      "name": "python"
    },
    "accelerator": "GPU"
  },
  "cells": [
    {
      "cell_type": "code",
      "source": [
        "!nvcc --version\n",
        "!nvidia-smi"
      ],
      "metadata": {
        "colab": {
          "base_uri": "https://localhost:8080/"
        },
        "id": "OEm6GxLePnsK",
        "outputId": "00ff352e-b6fc-4189-dea0-9627ff7c3ef0"
      },
      "execution_count": 1,
      "outputs": [
        {
          "output_type": "stream",
          "name": "stdout",
          "text": [
            "nvcc: NVIDIA (R) Cuda compiler driver\n",
            "Copyright (c) 2005-2021 NVIDIA Corporation\n",
            "Built on Sun_Feb_14_21:12:58_PST_2021\n",
            "Cuda compilation tools, release 11.2, V11.2.152\n",
            "Build cuda_11.2.r11.2/compiler.29618528_0\n",
            "Thu Nov 10 16:46:17 2022       \n",
            "+-----------------------------------------------------------------------------+\n",
            "| NVIDIA-SMI 460.32.03    Driver Version: 460.32.03    CUDA Version: 11.2     |\n",
            "|-------------------------------+----------------------+----------------------+\n",
            "| GPU  Name        Persistence-M| Bus-Id        Disp.A | Volatile Uncorr. ECC |\n",
            "| Fan  Temp  Perf  Pwr:Usage/Cap|         Memory-Usage | GPU-Util  Compute M. |\n",
            "|                               |                      |               MIG M. |\n",
            "|===============================+======================+======================|\n",
            "|   0  Tesla T4            Off  | 00000000:00:04.0 Off |                    0 |\n",
            "| N/A   39C    P8     9W /  70W |      0MiB / 15109MiB |      0%      Default |\n",
            "|                               |                      |                  N/A |\n",
            "+-------------------------------+----------------------+----------------------+\n",
            "                                                                               \n",
            "+-----------------------------------------------------------------------------+\n",
            "| Processes:                                                                  |\n",
            "|  GPU   GI   CI        PID   Type   Process name                  GPU Memory |\n",
            "|        ID   ID                                                   Usage      |\n",
            "|=============================================================================|\n",
            "|  No running processes found                                                 |\n",
            "+-----------------------------------------------------------------------------+\n"
          ]
        }
      ]
    },
    {
      "cell_type": "markdown",
      "source": [
        "Mount Google Drive"
      ],
      "metadata": {
        "id": "7rThZC5i4c0d"
      }
    },
    {
      "cell_type": "code",
      "source": [
        "from google.colab import drive\n",
        "drive.mount('/content/drive')"
      ],
      "metadata": {
        "id": "_qizZP6dQX85",
        "colab": {
          "base_uri": "https://localhost:8080/"
        },
        "outputId": "cd8a912b-fbe9-4c36-896b-18c2349a2abf"
      },
      "execution_count": 2,
      "outputs": [
        {
          "output_type": "stream",
          "name": "stdout",
          "text": [
            "Mounted at /content/drive\n"
          ]
        }
      ]
    },
    {
      "cell_type": "markdown",
      "source": [
        "# Benchmark 1: lavaMD"
      ],
      "metadata": {
        "id": "3Dme4-8NNJzW"
      }
    },
    {
      "cell_type": "markdown",
      "source": [
        "##lavaMD - CUDA\n",
        "Necessary change in makefile:\n",
        "- Set `-arch=sm_75` (because the Tesla T4 has the Turing architecture: https://askubuntu.com/questions/1157589/nvcc-fatal-value-sm-20-is-not-defined-for-option-gpu-architecture)\n",
        "\n",
        "To reduce warnings:\n",
        "- Add `#include <sys/time.h>` to `./utils/timer.c`\n",
        "- Add `#include <string.h>` and `#include <time.h>` to `./main.c`\n",
        "- Replace all percentage signs '%' that should be actually printed in `printf()` commands with `%%` in `./kernel/kernel_gpu_cuda_wrapper.cu`"
      ],
      "metadata": {
        "id": "BwVDWPNtNWaQ"
      }
    },
    {
      "cell_type": "code",
      "source": [
        "%cd '/content/drive/MyDrive/Colab Notebooks/Applied GPU Programming KTH/Assignment_2/rodinia_3.1/cuda/lavaMD'\n",
        "!ls"
      ],
      "metadata": {
        "colab": {
          "base_uri": "https://localhost:8080/"
        },
        "id": "RXTNEJb9ujBD",
        "outputId": "7b592c56-0f62-4d36-c621-6496155f24b2"
      },
      "execution_count": 3,
      "outputs": [
        {
          "output_type": "stream",
          "name": "stdout",
          "text": [
            "/content/drive/MyDrive/Colab Notebooks/Applied GPU Programming KTH/Assignment_2/rodinia_3.1/cuda/lavaMD\n",
            "kernel\tlavaMD\tmain.c\tmain.h\tmain.o\tmakefile  README  result.txt  run  util\n"
          ]
        }
      ]
    },
    {
      "cell_type": "code",
      "source": [
        "!make clean\n",
        "!make KERNEL_DIM=\"-DRD_WG_SIZE_0=128\""
      ],
      "metadata": {
        "id": "vUWEQFb7HzjH",
        "colab": {
          "base_uri": "https://localhost:8080/"
        },
        "outputId": "ab28a2b5-6f8d-4092-e5f1-df7ddbf027be"
      },
      "execution_count": 4,
      "outputs": [
        {
          "output_type": "stream",
          "name": "stdout",
          "text": [
            "rm\t*.o \\\n",
            "\t./kernel/*.o \\\n",
            "\t./util/num/*.o \\\n",
            "\t./util/timer/*.o \\\n",
            "\t./util/device/*.o \\\n",
            "\tlavaMD\n",
            "gcc\t-DRD_WG_SIZE_0=128  main.c \\\n",
            "\t\t-c \\\n",
            "\t\t-o main.o \\\n",
            "\t\t-O3\n",
            "/usr/local/cuda/bin/nvcc -DRD_WG_SIZE_0=128\t\t\t\t\t\t./kernel/kernel_gpu_cuda_wrapper.cu \\\n",
            "\t\t\t\t\t\t\t\t-c \\\n",
            "\t\t\t\t\t\t\t\t-o ./kernel/kernel_gpu_cuda_wrapper.o \\\n",
            "\t\t\t\t\t\t\t\t-O3 \\\n",
            "\t\t\t\t\t\t\t\t-arch sm_75\n",
            "\u001b[01m\u001b[K./kernel/kernel_gpu_cuda_wrapper.cu:\u001b[m\u001b[K In function ‘\u001b[01m\u001b[Kvoid kernel_gpu_cuda_wrapper(par_str, dim_str, box_str*, FOUR_VECTOR*, double*, FOUR_VECTOR*)\u001b[m\u001b[K’:\n",
            "\u001b[01m\u001b[K./kernel/kernel_gpu_cuda_wrapper.cu:66:23:\u001b[m\u001b[K \u001b[01;35m\u001b[Kwarning: \u001b[m\u001b[K‘\u001b[01m\u001b[KcudaError_t cudaThreadSynchronize()\u001b[m\u001b[K’ is deprecated [\u001b[01;35m\u001b[K-Wdeprecated-declarations\u001b[m\u001b[K]\n",
            "  cudaThreadSynchronize\u001b[01;35m\u001b[K(\u001b[m\u001b[K);\n",
            "                       \u001b[01;35m\u001b[K^\u001b[m\u001b[K\n",
            "\u001b[01m\u001b[K/usr/local/cuda/bin/../targets/x86_64-linux/include/cuda_runtime_api.h:1011:46:\u001b[m\u001b[K \u001b[01;36m\u001b[Knote: \u001b[m\u001b[Kdeclared here\n",
            " extern __CUDA_DEPRECATED __host__ cudaError_t\u001b[01;36m\u001b[K CUDARTAPI cudaThread\u001b[m\u001b[KSynchronize(void);\n",
            "                                              \u001b[01;36m\u001b[K^~~~~~~~~~~~~~~~~~~~~\u001b[m\u001b[K\n",
            "\u001b[01m\u001b[K./kernel/kernel_gpu_cuda_wrapper.cu:196:23:\u001b[m\u001b[K \u001b[01;35m\u001b[Kwarning: \u001b[m\u001b[K‘\u001b[01m\u001b[KcudaError_t cudaThreadSynchronize()\u001b[m\u001b[K’ is deprecated [\u001b[01;35m\u001b[K-Wdeprecated-declarations\u001b[m\u001b[K]\n",
            "  cudaThreadSynchronize\u001b[01;35m\u001b[K(\u001b[m\u001b[K);\n",
            "                       \u001b[01;35m\u001b[K^\u001b[m\u001b[K\n",
            "\u001b[01m\u001b[K/usr/local/cuda/bin/../targets/x86_64-linux/include/cuda_runtime_api.h:1011:46:\u001b[m\u001b[K \u001b[01;36m\u001b[Knote: \u001b[m\u001b[Kdeclared here\n",
            " extern __CUDA_DEPRECATED __host__ cudaError_t\u001b[01;36m\u001b[K CUDARTAPI cudaThread\u001b[m\u001b[KSynchronize(void);\n",
            "                                              \u001b[01;36m\u001b[K^~~~~~~~~~~~~~~~~~~~~\u001b[m\u001b[K\n",
            "gcc\t\t\t./util/num/num.c \\\n",
            "\t\t\t\t-c \\\n",
            "\t\t\t\t-o ./util/num/num.o \\\n",
            "\t\t\t\t-O3\n",
            "gcc\t\t\t\t./util/timer/timer.c \\\n",
            "\t\t\t\t\t-c \\\n",
            "\t\t\t\t\t-o ./util/timer/timer.o \\\n",
            "\t\t\t\t\t-O3\n",
            "/usr/local/cuda/bin/nvcc\t\t\t./util/device/device.cu \\\n",
            "\t\t\t\t\t-c \\\n",
            "\t\t\t\t\t-o ./util/device/device.o \\\n",
            "\t\t\t\t\t-O3\n",
            "gcc\t-DRD_WG_SIZE_0=128 main.o \\\n",
            "\t\t./kernel/kernel_gpu_cuda_wrapper.o \\\n",
            "\t\t./util/num/num.o \\\n",
            "\t\t./util/timer/timer.o \\\n",
            "\t\t./util/device/device.o \\\n",
            "\t\t-lm \\\n",
            "\t\t-L/usr/local/cuda/lib64 \\\n",
            "\t\t-lcuda -lcudart \\\n",
            "\t\t-lgomp \\\n",
            "\t\t-o lavaMD\n"
          ]
        }
      ]
    },
    {
      "cell_type": "code",
      "source": [
        "!ls\n",
        "!./lavaMD -boxes1d 10"
      ],
      "metadata": {
        "colab": {
          "base_uri": "https://localhost:8080/"
        },
        "id": "cyS4yOsj5iDW",
        "outputId": "6c12483e-7711-4088-8640-a023679a5430"
      },
      "execution_count": 5,
      "outputs": [
        {
          "output_type": "stream",
          "name": "stdout",
          "text": [
            "kernel\tlavaMD\tmain.c\tmain.h\tmain.o\tmakefile  README  result.txt  run  util\n",
            "thread block size of kernel = 128 \n",
            "Configuration used: boxes1d = 10\n",
            "Time spent in different stages of GPU_CUDA KERNEL:\n",
            " 0.300085008144 s, 59.149749755859 % : GPU: SET DEVICE / DRIVER INIT\n",
            " 0.000372000010 s,  0.073324911296 % : GPU MEM: ALO\n",
            " 0.001872000052 s,  0.368989855051 % : GPU MEM: COPY IN\n",
            " 0.203749999404 s, 40.161155700684 % : GPU: KERNEL\n",
            " 0.000761999981 s,  0.150197803974 % : GPU MEM: COPY OUT\n",
            " 0.000490000006 s,  0.096583887935 % : GPU MEM: FRE\n",
            "Total time:\n",
            "0.507331013680 s\n"
          ]
        }
      ]
    },
    {
      "cell_type": "markdown",
      "source": [
        "##lavaMD - OMP\n",
        "\n",
        "To reduce warnings:\n",
        "- Add `#include <sys/time.h>` to `./utils/timer.c`\n",
        "- Add `#include <string.h>` and `#include <time.h>` to `./main.c`\n",
        "- Replace all percentage signs '%' that should be actually printed in `printf()` commands with `%%` in `./kernel/kernel_cpu.c`"
      ],
      "metadata": {
        "id": "HJVjCIgtNcNc"
      }
    },
    {
      "cell_type": "code",
      "source": [
        "%cd '/content/drive/MyDrive/Colab Notebooks/Applied GPU Programming KTH/Assignment_2/rodinia_3.1/openmp/lavaMD'\n",
        "!ls"
      ],
      "metadata": {
        "colab": {
          "base_uri": "https://localhost:8080/"
        },
        "id": "ZikArimVNp34",
        "outputId": "213c6980-c506-42b8-e455-76c69e8228b8"
      },
      "execution_count": 6,
      "outputs": [
        {
          "output_type": "stream",
          "name": "stdout",
          "text": [
            "/content/drive/MyDrive/Colab Notebooks/Applied GPU Programming KTH/Assignment_2/rodinia_3.1/openmp/lavaMD\n",
            "kernel\tlavaMD\tmain.c\tmain.h\tmain.o\tmakefile  README  run  util\n"
          ]
        }
      ]
    },
    {
      "cell_type": "code",
      "source": [
        "!make clean\n",
        "!make"
      ],
      "metadata": {
        "colab": {
          "base_uri": "https://localhost:8080/"
        },
        "id": "y_w0xTN7NsOe",
        "outputId": "45fc93d3-8fb6-4b16-86ca-b4c4753fab2e"
      },
      "execution_count": 7,
      "outputs": [
        {
          "output_type": "stream",
          "name": "stdout",
          "text": [
            "rm\t*.o \\\n",
            "\t./kernel/*.o \\\n",
            "\t./util/num/*.o \\\n",
            "\t./util/timer/*.o \\\n",
            "                ./util/device/*.o \\\n",
            "\tlavaMD\n",
            "rm: cannot remove './util/device/*.o': No such file or directory\n",
            "makefile:67: recipe for target 'clean' failed\n",
            "make: *** [clean] Error 1\n",
            "gcc\t main.c \\\n",
            "\t\t-c \\\n",
            "\t\t-o main.o \\\n",
            "\t\t-O3\n",
            "gcc\t\t\t\t./kernel/kernel_cpu.c \\\n",
            "\t\t\t\t\t-c \\\n",
            "\t\t\t\t\t-o ./kernel/kernel_cpu.o \\\n",
            "\t\t\t\t\t-O3 \\\n",
            "\t\t\t\t\t-fopenmp\n",
            "gcc\t\t\t./util/num/num.c \\\n",
            "\t\t\t\t-c \\\n",
            "\t\t\t\t-o ./util/num/num.o \\\n",
            "\t\t\t\t-O3\n",
            "gcc\t\t\t\t./util/timer/timer.c \\\n",
            "\t\t\t\t\t-c \\\n",
            "\t\t\t\t\t-o ./util/timer/timer.o \\\n",
            "\t\t\t\t\t-O3\n",
            "gcc\tmain.o \\\n",
            "\t\t./kernel/kernel_cpu.o \\\n",
            "\t\t./util/num/num.o \\\n",
            "\t\t./util/timer/timer.o \\\n",
            "\t\t-lm \\\n",
            "\t\t-lgomp \\\n",
            "\t\t-o lavaMD\n"
          ]
        }
      ]
    },
    {
      "cell_type": "code",
      "source": [
        "!ls\n",
        "!./lavaMD -cores 4 -boxes1d 10"
      ],
      "metadata": {
        "colab": {
          "base_uri": "https://localhost:8080/"
        },
        "id": "-cUXYNSyNt6O",
        "outputId": "3572c293-8a33-4129-fa15-730fc6789a55"
      },
      "execution_count": 8,
      "outputs": [
        {
          "output_type": "stream",
          "name": "stdout",
          "text": [
            "kernel\tlavaMD\tmain.c\tmain.h\tmain.o\tmakefile  README  run  util\n",
            "Configuration used: cores = 4, boxes1d = 10\n",
            "Time spent in different stages of CPU/MCPU KERNEL:\n",
            " 0.000001000000 s,  0.000015313983 % : CPU/MCPU: VARIABLES\n",
            " 0.000009000000 s,  0.000137825846 % : MCPU: SET DEVICE\n",
            " 0.000000000000 s,  0.000000000000 % : CPU/MCPU: INPUTS\n",
            " 6.529970169067 s, 99.999847412109 % : CPU/MCPU: KERNEL\n",
            "Total time:\n",
            "6.529980182648 s\n"
          ]
        }
      ]
    },
    {
      "cell_type": "markdown",
      "source": [
        "# Benchmark 2: lud"
      ],
      "metadata": {
        "id": "ekd2FRi_XnVl"
      }
    },
    {
      "cell_type": "markdown",
      "source": [
        "##lud - CUDA\n",
        "\n",
        "Necessary change in makefile:\n",
        "- Set `-arch=sm_75` in `./cuda/Makefile` (because the Tesla T4 has the Turing architecture: https://askubuntu.com/questions/1157589/nvcc-fatal-value-sm-20-is-not-defined-for-option-gpu-architecture)"
      ],
      "metadata": {
        "id": "av_NiB-2X1aN"
      }
    },
    {
      "cell_type": "code",
      "source": [
        "%cd '/content/drive/MyDrive/Colab Notebooks/Applied GPU Programming KTH/Assignment_2/rodinia_3.1/cuda/lud'\n",
        "!ls"
      ],
      "metadata": {
        "colab": {
          "base_uri": "https://localhost:8080/"
        },
        "outputId": "eefe610f-2f65-4160-d5cb-5e5d8e34f3f9",
        "id": "ZXkJlUzfYAhV"
      },
      "execution_count": 9,
      "outputs": [
        {
          "output_type": "stream",
          "name": "stdout",
          "text": [
            "/content/drive/MyDrive/Colab Notebooks/Applied GPU Programming KTH/Assignment_2/rodinia_3.1/cuda/lud\n",
            "base  common  cuda  Makefile  README  run  tools\n"
          ]
        }
      ]
    },
    {
      "cell_type": "code",
      "source": [
        "!make clean\n",
        "!make KERNEL_DIM=\"-DRD_WG_SIZE_0=64\" # Change in makefile necessary: https://askubuntu.com/questions/1157589/nvcc-fatal-value-sm-20-is-not-defined-for-option-gpu-architecture"
      ],
      "metadata": {
        "colab": {
          "base_uri": "https://localhost:8080/"
        },
        "outputId": "b815e0e1-99e3-4472-ea01-23c95331aaa4",
        "id": "PAyQCotaYCpd"
      },
      "execution_count": 10,
      "outputs": [
        {
          "output_type": "stream",
          "name": "stdout",
          "text": [
            "cd cuda; make clean\n",
            "make[1]: Entering directory '/content/drive/MyDrive/Colab Notebooks/Applied GPU Programming KTH/Assignment_2/rodinia_3.1/cuda/lud/cuda'\n",
            "rm -f lud_cuda ../common/common.o lud.o lud_kernel.o *.linkinfo\n",
            "make[1]: Leaving directory '/content/drive/MyDrive/Colab Notebooks/Applied GPU Programming KTH/Assignment_2/rodinia_3.1/cuda/lud/cuda'\n",
            "cd cuda; make\n",
            "make[1]: Entering directory '/content/drive/MyDrive/Colab Notebooks/Applied GPU Programming KTH/Assignment_2/rodinia_3.1/cuda/lud/cuda'\n",
            "nvcc -DRD_WG_SIZE_0=64 -I../common -O3 -use_fast_math -arch sm_75 -lm  -DGPU_TIMER  -o ../common/common.o -c ../common/common.c\n",
            "\u001b[01m\u001b[K../common/common.c:\u001b[m\u001b[K In function ‘\u001b[01m\u001b[Kcreate_matrix_from_file\u001b[m\u001b[K’:\n",
            "\u001b[01m\u001b[K../common/common.c:51:3:\u001b[m\u001b[K \u001b[01;35m\u001b[Kwarning: \u001b[m\u001b[Kignoring return value of ‘\u001b[01m\u001b[Kfscanf\u001b[m\u001b[K’, declared with attribute warn_unused_result [\u001b[01;35m\u001b[K-Wunused-result\u001b[m\u001b[K]\n",
            "   \u001b[01;35m\u001b[Kfscanf(fp, \"%d\\n\", &size)\u001b[m\u001b[K;\n",
            "   \u001b[01;35m\u001b[K^~~~~~~~~~~~~~~~~~~~~~~~~\u001b[m\u001b[K\n",
            "\u001b[01m\u001b[K../common/common.c:61:11:\u001b[m\u001b[K \u001b[01;35m\u001b[Kwarning: \u001b[m\u001b[Kignoring return value of ‘\u001b[01m\u001b[Kfscanf\u001b[m\u001b[K’, declared with attribute warn_unused_result [\u001b[01;35m\u001b[K-Wunused-result\u001b[m\u001b[K]\n",
            "           \u001b[01;35m\u001b[Kfscanf(fp, \"%f \", m+i*size+j)\u001b[m\u001b[K;\n",
            "           \u001b[01;35m\u001b[K^~~~~~~~~~~~~~~~~~~~~~~~~~~~~\u001b[m\u001b[K\n",
            "nvcc -DRD_WG_SIZE_0=64 -I../common -O3 -use_fast_math -arch sm_75 -lm  -DGPU_TIMER  -o lud.o -c lud.cu\n",
            "nvcc -DRD_WG_SIZE_0=64 -I../common -O3 -use_fast_math -arch sm_75 -lm  -DGPU_TIMER  -o lud_kernel.o -c lud_kernel.cu\n",
            "nvcc -I../common -O3 -use_fast_math -arch sm_75 -lm  -o lud_cuda  ../common/common.o lud.o lud_kernel.o\n",
            "make[1]: Leaving directory '/content/drive/MyDrive/Colab Notebooks/Applied GPU Programming KTH/Assignment_2/rodinia_3.1/cuda/lud/cuda'\n"
          ]
        }
      ]
    },
    {
      "cell_type": "code",
      "source": [
        "!ls\n",
        "!./cuda/lud_cuda -s 2048"
      ],
      "metadata": {
        "colab": {
          "base_uri": "https://localhost:8080/"
        },
        "outputId": "f8a4ed00-8edc-400b-9f97-3166ee0206f0",
        "id": "h2DUvNFPYFHM"
      },
      "execution_count": 11,
      "outputs": [
        {
          "output_type": "stream",
          "name": "stdout",
          "text": [
            "base  common  cuda  Makefile  README  run  tools\n",
            "WG size of kernel = 64 X 64\n",
            "Generate input matrix internally, size =2048\n",
            "Creating matrix internally size=2048\n",
            "Time consumed(ms): 48.456000\n"
          ]
        }
      ]
    },
    {
      "cell_type": "markdown",
      "source": [
        "##lud - OMP\n",
        "Necesarry changes in `./omp/Makefile.offload`: <br />\n",
        "`CC              := icc` -> `CC              := gcc` <br />\n",
        "`CXX             := icc` -> `CXX             := gcc` <br />"
      ],
      "metadata": {
        "id": "SXAUwPmHgZBc"
      }
    },
    {
      "cell_type": "code",
      "source": [
        "%cd '/content/drive/MyDrive/Colab Notebooks/Applied GPU Programming KTH/Assignment_2/rodinia_3.1/openmp/lud'\n",
        "!ls"
      ],
      "metadata": {
        "colab": {
          "base_uri": "https://localhost:8080/"
        },
        "id": "IR8z7U-Agd2g",
        "outputId": "6751249d-6d3e-4542-a2c3-842a6e0a6e2a"
      },
      "execution_count": 12,
      "outputs": [
        {
          "output_type": "stream",
          "name": "stdout",
          "text": [
            "/content/drive/MyDrive/Colab Notebooks/Applied GPU Programming KTH/Assignment_2/rodinia_3.1/openmp/lud\n",
            "base  common  Makefile\tomp  README  run  run_offload  tools\n"
          ]
        }
      ]
    },
    {
      "cell_type": "code",
      "source": [
        "!make clean\n",
        "!make"
      ],
      "metadata": {
        "colab": {
          "base_uri": "https://localhost:8080/"
        },
        "id": "n7xCJ7HcgghO",
        "outputId": "98d056e8-05ff-4e2d-f998-0391396d995c"
      },
      "execution_count": 13,
      "outputs": [
        {
          "output_type": "stream",
          "name": "stdout",
          "text": [
            "cd omp; make clean ; make -f Makefile.offload clean\n",
            "make[1]: Entering directory '/content/drive/MyDrive/Colab Notebooks/Applied GPU Programming KTH/Assignment_2/rodinia_3.1/openmp/lud/omp'\n",
            "rm --force lud_omp lud.o lud_omp.o ../common/common.o *~\n",
            "make[1]: Leaving directory '/content/drive/MyDrive/Colab Notebooks/Applied GPU Programming KTH/Assignment_2/rodinia_3.1/openmp/lud/omp'\n",
            "make[1]: Entering directory '/content/drive/MyDrive/Colab Notebooks/Applied GPU Programming KTH/Assignment_2/rodinia_3.1/openmp/lud/omp'\n",
            "rm --force lud_omp_offload lud.o lud_omp.o ../common/common.o *~\n",
            "make[1]: Leaving directory '/content/drive/MyDrive/Colab Notebooks/Applied GPU Programming KTH/Assignment_2/rodinia_3.1/openmp/lud/omp'\n",
            "cd omp; make\n",
            "make[1]: Entering directory '/content/drive/MyDrive/Colab Notebooks/Applied GPU Programming KTH/Assignment_2/rodinia_3.1/openmp/lud/omp'\n",
            "gcc  -c -Wall -O3   -fopenmp -I../common lud.c -o lud.o\n",
            "gcc  -c -Wall -O3   -fopenmp -I../common lud_omp.c -o lud_omp.o\n",
            "gcc  -c -Wall -O3   -fopenmp -I../common ../common/common.c -o ../common/common.o\n",
            "\u001b[01m\u001b[K../common/common.c:\u001b[m\u001b[K In function ‘\u001b[01m\u001b[Kcreate_matrix_from_file\u001b[m\u001b[K’:\n",
            "\u001b[01m\u001b[K../common/common.c:51:3:\u001b[m\u001b[K \u001b[01;35m\u001b[Kwarning: \u001b[m\u001b[Kignoring return value of ‘\u001b[01m\u001b[Kfscanf\u001b[m\u001b[K’, declared with attribute warn_unused_result [\u001b[01;35m\u001b[K-Wunused-result\u001b[m\u001b[K]\n",
            "   \u001b[01;35m\u001b[Kfscanf(fp, \"%d\\n\", &size)\u001b[m\u001b[K;\n",
            "   \u001b[01;35m\u001b[K^~~~~~~~~~~~~~~~~~~~~~~~~\u001b[m\u001b[K\n",
            "\u001b[01m\u001b[K../common/common.c:61:11:\u001b[m\u001b[K \u001b[01;35m\u001b[Kwarning: \u001b[m\u001b[Kignoring return value of ‘\u001b[01m\u001b[Kfscanf\u001b[m\u001b[K’, declared with attribute warn_unused_result [\u001b[01;35m\u001b[K-Wunused-result\u001b[m\u001b[K]\n",
            "           \u001b[01;35m\u001b[Kfscanf(fp, \"%f \", m+i*size+j)\u001b[m\u001b[K;\n",
            "           \u001b[01;35m\u001b[K^~~~~~~~~~~~~~~~~~~~~~~~~~~~~\u001b[m\u001b[K\n",
            "\u001b[01m\u001b[K../common/common.c:\u001b[m\u001b[K In function ‘\u001b[01m\u001b[Klud_verify\u001b[m\u001b[K’:\n",
            "\u001b[01m\u001b[K../common/common.c:187:1:\u001b[m\u001b[K \u001b[01;35m\u001b[Kwarning: \u001b[m\u001b[Kcontrol reaches end of non-void function [\u001b[01;35m\u001b[K-Wreturn-type\u001b[m\u001b[K]\n",
            " \u001b[01;35m\u001b[K}\u001b[m\u001b[K\n",
            " \u001b[01;35m\u001b[K^\u001b[m\u001b[K\n",
            "\u001b[01m\u001b[K../common/common.c:\u001b[m\u001b[K In function ‘\u001b[01m\u001b[Kcreate_matrix_from_random\u001b[m\u001b[K’:\n",
            "\u001b[01m\u001b[K../common/common.c:123:7:\u001b[m\u001b[K \u001b[01;35m\u001b[Kwarning: \u001b[m\u001b[K‘\u001b[01m\u001b[Km\u001b[m\u001b[K’ may be used uninitialized in this function [\u001b[01;35m\u001b[K-Wmaybe-uninitialized\u001b[m\u001b[K]\n",
            "   \u001b[01;35m\u001b[K*mp = m\u001b[m\u001b[K;\n",
            "   \u001b[01;35m\u001b[K~~~~^~~\u001b[m\u001b[K\n",
            "gcc   -fopenmp   -o lud_omp lud.o lud_omp.o ../common/common.o   -lm\n",
            "make[1]: Leaving directory '/content/drive/MyDrive/Colab Notebooks/Applied GPU Programming KTH/Assignment_2/rodinia_3.1/openmp/lud/omp'\n",
            "cd omp; make -f Makefile.offload\n",
            "make[1]: Entering directory '/content/drive/MyDrive/Colab Notebooks/Applied GPU Programming KTH/Assignment_2/rodinia_3.1/openmp/lud/omp'\n",
            "gcc   -fopenmp  -o lud_omp_offload lud.o lud_omp.o ../common/common.o   -lm\n",
            "make[1]: Leaving directory '/content/drive/MyDrive/Colab Notebooks/Applied GPU Programming KTH/Assignment_2/rodinia_3.1/openmp/lud/omp'\n"
          ]
        }
      ]
    },
    {
      "cell_type": "code",
      "source": [
        "!ls\n",
        "!./omp/lud_omp -s 2048"
      ],
      "metadata": {
        "id": "NnlgWIusgjnY",
        "colab": {
          "base_uri": "https://localhost:8080/"
        },
        "outputId": "b65115d1-2ea2-4121-c872-9ae2f582a5ab"
      },
      "execution_count": 14,
      "outputs": [
        {
          "output_type": "stream",
          "name": "stdout",
          "text": [
            "base  common  Makefile\tomp  README  run  run_offload  tools\n",
            "Generate input matrix internally, size =2048\n",
            "Creating matrix internally size=2048\n",
            "running OMP on host\n",
            "Time consumed(ms): 740.013000\n"
          ]
        }
      ]
    },
    {
      "cell_type": "markdown",
      "source": [
        "# Benchmark 3: myocyte"
      ],
      "metadata": {
        "id": "DNJTsjoJzphb"
      }
    },
    {
      "cell_type": "markdown",
      "source": [
        "##myocyte - CUDA\n",
        "To reduce warnings:\n",
        "- Replace all percentage signs '%' that should be actually printed in `printf()` commands with `%%` in `./work.cu` and `./work_2.cu`"
      ],
      "metadata": {
        "id": "da8jQIB-1d4S"
      }
    },
    {
      "cell_type": "code",
      "source": [
        "%cd '/content/drive/MyDrive/Colab Notebooks/Applied GPU Programming KTH/Assignment_2/rodinia_3.1/cuda/myocyte'\n",
        "!ls"
      ],
      "metadata": {
        "colab": {
          "base_uri": "https://localhost:8080/"
        },
        "id": "lrC2xKL81k7W",
        "outputId": "23174d04-de39-4f1c-9082-52facade3930"
      },
      "execution_count": 15,
      "outputs": [
        {
          "output_type": "stream",
          "name": "stdout",
          "text": [
            "/content/drive/MyDrive/Colab Notebooks/Applied GPU Programming KTH/Assignment_2/rodinia_3.1/cuda/myocyte\n",
            "define.c\t\t    kernel_cam.cu    main.cu\t  run\n",
            "embedded_fehlberg_7_8_2.cu  kernel.cu\t     main.o\t  solver_2.cu\n",
            "embedded_fehlberg_7_8.cu    kernel_ecc_2.cu  Makefile\t  solver.cu\n",
            "file.c\t\t\t    kernel_ecc.cu    master.cu\t  timer.c\n",
            "kernel_2.cu\t\t    kernel_fin_2.cu  myocyte.out  work_2.cu\n",
            "kernel_cam_2.cu\t\t    kernel_fin.cu    README\t  work.cu\n"
          ]
        }
      ]
    },
    {
      "cell_type": "code",
      "source": [
        "!make clean\n",
        "!make KERNEL_DIM=\"-DRD_WG_SIZE_0=64\" # Change in makefile necessary: https://askubuntu.com/questions/1157589/nvcc-fatal-value-sm-20-is-not-defined-for-option-gpu-architecture"
      ],
      "metadata": {
        "colab": {
          "base_uri": "https://localhost:8080/"
        },
        "id": "AHjV7u071jUJ",
        "outputId": "fb9f7d8d-2bd8-4b4f-c7cd-27569b939bea"
      },
      "execution_count": 16,
      "outputs": [
        {
          "output_type": "stream",
          "name": "stdout",
          "text": [
            "rm *.o *.out output.txt\n",
            "rm: cannot remove 'output.txt': No such file or directory\n",
            "Makefile:43: recipe for target 'clean' failed\n",
            "make: *** [clean] Error 1\n",
            "nvcc\tmain.cu \\\n",
            "\t\t\t-c -O3 -g\n",
            "file.c(108): warning: result of call is not used\n",
            "\n",
            "file.c(116): warning: result of call is not used\n",
            "\n",
            "work.cu(126): warning: conversion from a string literal to \"char *\" is deprecated\n",
            "\n",
            "work.cu(135): warning: conversion from a string literal to \"char *\" is deprecated\n",
            "\n",
            "work_2.cu(171): warning: conversion from a string literal to \"char *\" is deprecated\n",
            "\n",
            "work_2.cu(185): warning: conversion from a string literal to \"char *\" is deprecated\n",
            "\n",
            "file.c(108): warning: result of call is not used\n",
            "\n",
            "file.c(116): warning: result of call is not used\n",
            "\n",
            "work.cu(126): warning: conversion from a string literal to \"char *\" is deprecated\n",
            "\n",
            "work.cu(135): warning: conversion from a string literal to \"char *\" is deprecated\n",
            "\n",
            "work_2.cu(171): warning: conversion from a string literal to \"char *\" is deprecated\n",
            "\n",
            "work_2.cu(185): warning: conversion from a string literal to \"char *\" is deprecated\n",
            "\n",
            "\u001b[01m\u001b[Kfile.c:\u001b[m\u001b[K In function ‘\u001b[01m\u001b[Kvoid read(char*, float*, int, int, int)\u001b[m\u001b[K’:\n",
            "\u001b[01m\u001b[Kfile.c:108:7:\u001b[m\u001b[K \u001b[01;35m\u001b[Kwarning: \u001b[m\u001b[Kignoring return value of ‘\u001b[01m\u001b[Kint fscanf(FILE*, const char*, ...)\u001b[m\u001b[K’, declared with attribute warn_unused_result [\u001b[01;35m\u001b[K-Wunused-result\u001b[m\u001b[K]\n",
            " \u001b[01;35m\u001b[K    fscanf(fid, \"%f\", &t\u001b[m\u001b[Kemp);\n",
            "     \u001b[01;35m\u001b[K~~^~~~~~~~~~~~~~~~~~\u001b[m\u001b[K\n",
            "\u001b[01m\u001b[Kfile.c:116:7:\u001b[m\u001b[K \u001b[01;35m\u001b[Kwarning: \u001b[m\u001b[Kignoring return value of ‘\u001b[01m\u001b[Kint fscanf(FILE*, const char*, ...)\u001b[m\u001b[K’, declared with attribute warn_unused_result [\u001b[01;35m\u001b[K-Wunused-result\u001b[m\u001b[K]\n",
            " \u001b[01;35m\u001b[K    fscanf(fid, \"%f\", &t\u001b[m\u001b[Kemp);\n",
            "     \u001b[01;35m\u001b[K~~^~~~~~~~~~~~~~~~~~\u001b[m\u001b[K\n",
            "\u001b[01m\u001b[Kwork.cu:\u001b[m\u001b[K In function ‘\u001b[01m\u001b[Kint work(int, int)\u001b[m\u001b[K’:\n",
            "\u001b[01m\u001b[Kwork.cu:172:6:\u001b[m\u001b[K \u001b[01;35m\u001b[Kwarning: \u001b[m\u001b[Kargument 4 null where non-null expected [\u001b[01;35m\u001b[K-Wnonnull\u001b[m\u001b[K]\n",
            " \u001b[01;35m\u001b[K   fputs (\"fopen example\",pFi\u001b[m\u001b[Kle);\n",
            "    \u001b[01;35m\u001b[K~~^~~~~~~~~~~~~~~~~~~~~~~~\u001b[m\u001b[K\n",
            "\u001b[01m\u001b[Kwork.cu:172:6:\u001b[m\u001b[K \u001b[01;36m\u001b[Knote: \u001b[m\u001b[Kin a call to built-in function ‘\u001b[01m\u001b[Klong unsigned int __builtin_fwrite(const void*, size_t, size_t, FILE*)\u001b[m\u001b[K’\n",
            "nvcc\tmain.o \\\n",
            "\t\t\t-I/usr/local/cuda/include \\\n",
            "\t\t\t-L/usr/local/cuda/lib \\\n",
            "\t\t\t-lm -lcuda -lcudart \\\n",
            "                                -o myocyte.out\n"
          ]
        }
      ]
    },
    {
      "cell_type": "code",
      "source": [
        "!ls\n",
        "!./myocyte.out 1000 100 1"
      ],
      "metadata": {
        "colab": {
          "base_uri": "https://localhost:8080/"
        },
        "id": "keJHTob41nNY",
        "outputId": "017ec02e-535d-49c0-c517-b5f56d2d4b90"
      },
      "execution_count": 17,
      "outputs": [
        {
          "output_type": "stream",
          "name": "stdout",
          "text": [
            "define.c\t\t    kernel_cam.cu    main.cu\t  run\n",
            "embedded_fehlberg_7_8_2.cu  kernel.cu\t     main.o\t  solver_2.cu\n",
            "embedded_fehlberg_7_8.cu    kernel_ecc_2.cu  Makefile\t  solver.cu\n",
            "file.c\t\t\t    kernel_ecc.cu    master.cu\t  timer.c\n",
            "kernel_2.cu\t\t    kernel_fin_2.cu  myocyte.out  work_2.cu\n",
            "kernel_cam_2.cu\t\t    kernel_fin.cu    README\t  work.cu\n",
            "Time spent in different stages of the application:\n",
            "0.000001000000 s, 0.000009827563 % : SETUP VARIABLES\n",
            "1.510107994080 s, 14.840682029724 % : ALLOCATE CPU MEMORY AND GPU MEMORY\n",
            "1.729429960251 s, 16.996082305908 % : READ DATA FROM FILES, COPY TO GPU MEMORY\n",
            "0.000036000001 s, 0.000353792275 % : RUN GPU KERNEL\n",
            "6.933597087860 s, 68.140365600586 % : COPY GPU DATA TO CPU MEMORY\n",
            "0.002289999975 s, 0.022505121306 % : FREE MEMORY\n",
            "Total time:\n",
            "10.175461769104 s\n"
          ]
        }
      ]
    },
    {
      "cell_type": "markdown",
      "source": [
        "##myocyte - OMP\n",
        "To reduce warnings:\n",
        "- Replace all percentage signs '%' that should be actually printed in `printf()` commands with `%%` in `./main.c`"
      ],
      "metadata": {
        "id": "PvLvO-2XzvSz"
      }
    },
    {
      "cell_type": "code",
      "source": [
        "%cd '/content/drive/MyDrive/Colab Notebooks/Applied GPU Programming KTH/Assignment_2/rodinia_3.1/openmp/myocyte'\n",
        "!ls"
      ],
      "metadata": {
        "colab": {
          "base_uri": "https://localhost:8080/"
        },
        "outputId": "dbc9402b-b9b2-4938-9e73-5cc277c2aa1e",
        "id": "ZurPzoj7zw1D"
      },
      "execution_count": 18,
      "outputs": [
        {
          "output_type": "stream",
          "name": "stdout",
          "text": [
            "/content/drive/MyDrive/Colab Notebooks/Applied GPU Programming KTH/Assignment_2/rodinia_3.1/openmp/myocyte\n",
            "cam.c\t  embedded_fehlberg_7_8.c  main.c    master.c\t  run\n",
            "define.c  file.c\t\t   main.o    myocyte.out  solver.c\n",
            "ecc.c\t  fin.c\t\t\t   Makefile  README\t  timer.c\n"
          ]
        }
      ]
    },
    {
      "cell_type": "code",
      "source": [
        "!make clean\n",
        "!make"
      ],
      "metadata": {
        "colab": {
          "base_uri": "https://localhost:8080/"
        },
        "outputId": "0166ef30-ce09-4800-ebc9-0d4dc803b914",
        "id": "GkdqqzMfzzzk"
      },
      "execution_count": 19,
      "outputs": [
        {
          "output_type": "stream",
          "name": "stdout",
          "text": [
            "rm *.o myocyte.out output.txt\n",
            "rm: cannot remove 'output.txt': No such file or directory\n",
            "Makefile:32: recipe for target 'clean' failed\n",
            "make: *** [clean] Error 1\n",
            "gcc\tmain.c \\\n",
            "\t\t-c -O3 -fopenmp\n",
            "\u001b[01m\u001b[Kmain.c:\u001b[m\u001b[K In function ‘\u001b[01m\u001b[Kmain\u001b[m\u001b[K’:\n",
            "\u001b[01m\u001b[Kmain.c:175:20:\u001b[m\u001b[K \u001b[01;35m\u001b[Kwarning: \u001b[m\u001b[Kformat ‘\u001b[01m\u001b[K%d\u001b[m\u001b[K’ expects argument of type ‘\u001b[01m\u001b[Kint\u001b[m\u001b[K’, but argument 2 has type ‘\u001b[01m\u001b[Klong int\u001b[m\u001b[K’ [\u001b[01;35m\u001b[K-Wformat=\u001b[m\u001b[K]\n",
            "    printf(\"ERROR: \u001b[01;35m\u001b[K%d\u001b[m\u001b[K is the incorrect end of simulation interval, use numbers > 0\\n\", xmax);\n",
            "                   \u001b[01;35m\u001b[K~^\u001b[m\u001b[K\n",
            "                   \u001b[32m\u001b[K%ld\u001b[m\u001b[K\n",
            "\u001b[01m\u001b[Kmain.c:185:20:\u001b[m\u001b[K \u001b[01;35m\u001b[Kwarning: \u001b[m\u001b[Kformat ‘\u001b[01m\u001b[K%d\u001b[m\u001b[K’ expects argument of type ‘\u001b[01m\u001b[Kint\u001b[m\u001b[K’, but argument 2 has type ‘\u001b[01m\u001b[Klong int\u001b[m\u001b[K’ [\u001b[01;35m\u001b[K-Wformat=\u001b[m\u001b[K]\n",
            "    printf(\"ERROR: \u001b[01;35m\u001b[K%d\u001b[m\u001b[K is the incorrect number of instances of simulation, use numbers > 0\\n\", workload);\n",
            "                   \u001b[01;35m\u001b[K~^\u001b[m\u001b[K\n",
            "                   \u001b[32m\u001b[K%ld\u001b[m\u001b[K\n",
            "In file included from \u001b[01m\u001b[Kmain.c:91:0\u001b[m\u001b[K:\n",
            "\u001b[01m\u001b[Kfile.c:\u001b[m\u001b[K In function ‘\u001b[01m\u001b[Kread\u001b[m\u001b[K’:\n",
            "\u001b[01m\u001b[Kfile.c:109:5:\u001b[m\u001b[K \u001b[01;35m\u001b[Kwarning: \u001b[m\u001b[Kignoring return value of ‘\u001b[01m\u001b[Kfscanf\u001b[m\u001b[K’, declared with attribute warn_unused_result [\u001b[01;35m\u001b[K-Wunused-result\u001b[m\u001b[K]\n",
            "     \u001b[01;35m\u001b[Kfscanf(fid, \"%f\", &temp)\u001b[m\u001b[K;\n",
            "     \u001b[01;35m\u001b[K^~~~~~~~~~~~~~~~~~~~~~~~\u001b[m\u001b[K\n",
            "\u001b[01m\u001b[Kfile.c:117:5:\u001b[m\u001b[K \u001b[01;35m\u001b[Kwarning: \u001b[m\u001b[Kignoring return value of ‘\u001b[01m\u001b[Kfscanf\u001b[m\u001b[K’, declared with attribute warn_unused_result [\u001b[01;35m\u001b[K-Wunused-result\u001b[m\u001b[K]\n",
            "     \u001b[01;35m\u001b[Kfscanf(fid, \"%f\", &temp)\u001b[m\u001b[K;\n",
            "     \u001b[01;35m\u001b[K^~~~~~~~~~~~~~~~~~~~~~~~\u001b[m\u001b[K\n",
            "gcc\tmain.o \\\n",
            "\t\t-lm -fopenmp \\\n",
            "-o myocyte.out\n"
          ]
        }
      ]
    },
    {
      "cell_type": "code",
      "source": [
        "!ls\n",
        "!./myocyte.out 1000 100 1 4"
      ],
      "metadata": {
        "colab": {
          "base_uri": "https://localhost:8080/"
        },
        "outputId": "4b7b2b26-388c-4b7d-e05a-17dc643eac77",
        "id": "1gprE_1kz1Ou"
      },
      "execution_count": 20,
      "outputs": [
        {
          "output_type": "stream",
          "name": "stdout",
          "text": [
            "cam.c\t  embedded_fehlberg_7_8.c  main.c    master.c\t  run\n",
            "define.c  file.c\t\t   main.o    myocyte.out  solver.c\n",
            "ecc.c\t  fin.c\t\t\t   Makefile  README\t  timer.c\n",
            "The file was not opened for reading\n",
            "Time spent in different stages of the application:\n",
            "0.000011000000 s, 0.000091592447 % : SETUP VARIABLES, READ COMMAND LINE ARGUMENTS\n",
            "0.018454000354 s, 0.153658822179 % : ALLOCATE MEMORY\n",
            "0.128046005964 s, 1.066185951233 % : READ DATA FROM FILES\n",
            "11.850337028503 s, 98.672851562500 % : RUN COMPUTATION\n",
            "0.012876000255 s, 0.107213124633 % : FREE MEMORY\n",
            "Total time:\n",
            "12.009723663330 s\n"
          ]
        }
      ]
    }
  ]
}